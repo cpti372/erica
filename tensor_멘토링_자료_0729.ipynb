{
  "nbformat": 4,
  "nbformat_minor": 0,
  "metadata": {
    "kernelspec": {
      "display_name": "Python 3",
      "language": "python",
      "name": "python3"
    },
    "language_info": {
      "codemirror_mode": {
        "name": "ipython",
        "version": 3
      },
      "file_extension": ".py",
      "mimetype": "text/x-python",
      "name": "python",
      "nbconvert_exporter": "python",
      "pygments_lexer": "ipython3",
      "version": "3.6.8"
    },
    "colab": {
      "name": "tensor 멘토링 자료 0729",
      "provenance": [],
      "collapsed_sections": [
        "dV9pNX1k7Ul_"
      ],
      "include_colab_link": true
    }
  },
  "cells": [
    {
      "cell_type": "markdown",
      "metadata": {
        "id": "view-in-github",
        "colab_type": "text"
      },
      "source": [
        "<a href=\"https://colab.research.google.com/github/skimaza/erica/blob/master/tensor_%EB%A9%98%ED%86%A0%EB%A7%81_%EC%9E%90%EB%A3%8C_0729.ipynb\" target=\"_parent\"><img src=\"https://colab.research.google.com/assets/colab-badge.svg\" alt=\"Open In Colab\"/></a>"
      ]
    },
    {
      "cell_type": "markdown",
      "metadata": {
        "id": "3YsVosR9RLd-",
        "colab_type": "text"
      },
      "source": [
        "# 참고 문서\n",
        "https://pytorch.org/tutorials/beginner/blitz/tensor_tutorial.html#sphx-glr-beginner-blitz-tensor-tutorial-py\n",
        "\n",
        "Deep Learning with PyTorch"
      ]
    },
    {
      "cell_type": "code",
      "metadata": {
        "id": "vExIMiFV7Ukr",
        "colab_type": "code",
        "colab": {}
      },
      "source": [
        "%matplotlib inline"
      ],
      "execution_count": 2,
      "outputs": []
    },
    {
      "cell_type": "markdown",
      "metadata": {
        "id": "XB7Ek_VE7Ukx",
        "colab_type": "text"
      },
      "source": [
        "\n",
        "What is PyTorch?\n",
        "================\n",
        "\n",
        "It’s a Python-based scientific computing package targeted at two sets of\n",
        "audiences:\n",
        "\n",
        "-  A replacement for NumPy to use the power of GPUs\n",
        "-  a deep learning research platform that provides maximum flexibility\n",
        "   and speed\n",
        "\n",
        "Getting Started\n",
        "---------------\n",
        "\n",
        "Tensors\n",
        "^^^^^^^\n",
        "\n",
        "Tensors are similar to NumPy’s ndarrays, with the addition being that\n",
        "Tensors can also be used on a GPU to accelerate computing.\n",
        "\n"
      ]
    },
    {
      "cell_type": "code",
      "metadata": {
        "id": "d1MYO7Au7Uky",
        "colab_type": "code",
        "colab": {}
      },
      "source": [
        "from __future__ import print_function\n",
        "import torch"
      ],
      "execution_count": 3,
      "outputs": []
    },
    {
      "cell_type": "code",
      "metadata": {
        "id": "0nG6e-Tum0Fl",
        "colab_type": "code",
        "colab": {
          "base_uri": "https://localhost:8080/",
          "height": 104
        },
        "outputId": "c1137192-ae5f-4ef5-b6ea-97cfe48ebe2a"
      },
      "source": [
        "x = torch.empty(5, 3) # 5행, 3열의 텐서. 값은 모두 garbage\n",
        "print(x)"
      ],
      "execution_count": 22,
      "outputs": [
        {
          "output_type": "stream",
          "text": [
            "tensor([[2.7657e+09, 0.0000e+00, 3.3631e-44],\n",
            "        [0.0000e+00,        nan, 0.0000e+00],\n",
            "        [4.4721e+21, 1.5956e+25, 4.7399e+16],\n",
            "        [3.7987e-39, 0.0000e+00, 0.0000e+00],\n",
            "        [0.0000e+00, 0.0000e+00, 0.0000e+00]])\n"
          ],
          "name": "stdout"
        }
      ]
    },
    {
      "cell_type": "code",
      "metadata": {
        "id": "ByQ9aUGDm3Hb",
        "colab_type": "code",
        "colab": {
          "base_uri": "https://localhost:8080/",
          "height": 35
        },
        "outputId": "1ac21bfc-f763-4da3-f6d6-b36212c61466"
      },
      "source": [
        "print(x.size()) # size, shape"
      ],
      "execution_count": 23,
      "outputs": [
        {
          "output_type": "stream",
          "text": [
            "torch.Size([5, 3])\n"
          ],
          "name": "stdout"
        }
      ]
    },
    {
      "cell_type": "code",
      "metadata": {
        "id": "0O7eqkb-m-kT",
        "colab_type": "code",
        "colab": {
          "base_uri": "https://localhost:8080/",
          "height": 35
        },
        "outputId": "7930a159-41d4-4a1f-eb06-53182e6dff97"
      },
      "source": [
        "print(x.shape)"
      ],
      "execution_count": 24,
      "outputs": [
        {
          "output_type": "stream",
          "text": [
            "torch.Size([5, 3])\n"
          ],
          "name": "stdout"
        }
      ]
    },
    {
      "cell_type": "markdown",
      "metadata": {
        "id": "TAbc_ZSHl4ns",
        "colab_type": "text"
      },
      "source": [
        "Python List vs Tensor\n",
        "\n",
        "![](https://drive.google.com/uc?export=view&id=1iAUKkpqT8-h3TF0ghB6Td9WCvn0s6Of7)\n",
        "\n"
      ]
    },
    {
      "cell_type": "code",
      "metadata": {
        "id": "CWipZ5C8I7ZI",
        "colab_type": "code",
        "colab": {}
      },
      "source": [
        ""
      ],
      "execution_count": 24,
      "outputs": []
    },
    {
      "cell_type": "markdown",
      "metadata": {
        "id": "TvWXxh1S7Uk2",
        "colab_type": "text"
      },
      "source": [
        "<div class=\"alert alert-info\"><h1>Uninitialized vs random</h1><p>An uninitialized matrix is declared,\n",
        "    but does not contain definite known\n",
        "    values before it is used. When an\n",
        "    uninitialized matrix is created,\n",
        "    whatever values were in the allocated\n",
        "    memory at the time will appear as the initial values.</p></div>\n",
        "\n",
        "\n",
        "---\n",
        "\n",
        "\n"
      ]
    },
    {
      "cell_type": "markdown",
      "metadata": {
        "id": "VMnBfPn47Uk3",
        "colab_type": "text"
      },
      "source": [
        "Construct a 5x3 matrix, uninitialized:\n",
        "\n",
        "즉 값이 garbage임. random이 아님.\n",
        "\n"
      ]
    },
    {
      "cell_type": "code",
      "metadata": {
        "id": "tLy26cTZ7Uk3",
        "colab_type": "code",
        "colab": {
          "base_uri": "https://localhost:8080/",
          "height": 104
        },
        "outputId": "0765875f-09f9-40f3-d2bd-30c4006dc80e"
      },
      "source": [
        "x = torch.empty(5, 3)\n",
        "print(x)"
      ],
      "execution_count": 25,
      "outputs": [
        {
          "output_type": "stream",
          "text": [
            "tensor([[2.7657e+09, 0.0000e+00, 3.3631e-44],\n",
            "        [0.0000e+00,        nan, 0.0000e+00],\n",
            "        [4.4721e+21, 1.5956e+25, 4.7399e+16],\n",
            "        [3.7293e-08, 2.4209e+24, 4.1996e+12],\n",
            "        [7.5338e+28, 1.5975e-43, 0.0000e+00]])\n"
          ],
          "name": "stdout"
        }
      ]
    },
    {
      "cell_type": "code",
      "metadata": {
        "id": "pNr5QHrK8qrg",
        "colab_type": "code",
        "colab": {
          "base_uri": "https://localhost:8080/",
          "height": 35
        },
        "outputId": "88479e19-b18a-4d76-c738-33a1b02923cd"
      },
      "source": [
        "print(torch.get_default_dtype())"
      ],
      "execution_count": 26,
      "outputs": [
        {
          "output_type": "stream",
          "text": [
            "torch.float32\n"
          ],
          "name": "stdout"
        }
      ]
    },
    {
      "cell_type": "code",
      "metadata": {
        "id": "R9Ne2vxg82U1",
        "colab_type": "code",
        "colab": {
          "base_uri": "https://localhost:8080/",
          "height": 35
        },
        "outputId": "e44f428c-e53d-4d71-c815-2e6900c7e9d6"
      },
      "source": [
        "print(x.dtype)"
      ],
      "execution_count": 27,
      "outputs": [
        {
          "output_type": "stream",
          "text": [
            "torch.float32\n"
          ],
          "name": "stdout"
        }
      ]
    },
    {
      "cell_type": "markdown",
      "metadata": {
        "id": "bAh3IuFA89wL",
        "colab_type": "text"
      },
      "source": [
        "torch.empty는 torch의 global default dtype 이면서 garbage 값을 가지는 원소가 채워진 텐서를 생성.\n",
        "\n",
        "즉 디폴트 타입을 갖는 빈 텐서를 생성."
      ]
    },
    {
      "cell_type": "code",
      "metadata": {
        "id": "DTWE-5Cp7a-M",
        "colab_type": "code",
        "colab": {
          "base_uri": "https://localhost:8080/",
          "height": 104
        },
        "outputId": "07493a3d-3d97-469c-8d13-9b43806c4e83"
      },
      "source": [
        "x = torch.FloatTensor(5,3)\n",
        "print(x)"
      ],
      "execution_count": 28,
      "outputs": [
        {
          "output_type": "stream",
          "text": [
            "tensor([[2.7657e+09, 0.0000e+00, 2.1019e-44],\n",
            "        [0.0000e+00, 1.4013e-45, 0.0000e+00],\n",
            "        [4.4721e+21, 1.5956e+25, 4.7399e+16],\n",
            "        [3.7987e-39, 0.0000e+00, 0.0000e+00],\n",
            "        [0.0000e+00, 0.0000e+00, 0.0000e+00]])\n"
          ],
          "name": "stdout"
        }
      ]
    },
    {
      "cell_type": "markdown",
      "metadata": {
        "id": "wQLzS7vy76B2",
        "colab_type": "text"
      },
      "source": [
        "torch.FloatTensor 도 torch.float32 타입의 텐서를 생성.\n",
        "\n",
        "\n",
        "\n",
        "---\n",
        "\n",
        "\n",
        "tensor types\n",
        "\n",
        "![](https://drive.google.com/uc?export=view&id=1gYaex7yAnPhfTh1tvsxTwsMLht74ozSw)"
      ]
    },
    {
      "cell_type": "markdown",
      "metadata": {
        "id": "jl2V2i5DCHBY",
        "colab_type": "text"
      },
      "source": [
        "<h1>주의) torch.Tensor와 torch.tensor 사용 예.</h1>\n",
        "\n",
        "torch.Tensor는 Tensor 클래스를 instantiation. 즉 torch.empty와 같은 동작.\n",
        "\n",
        "torch.tensor는 인자로 받는 데이터 값을 복제. 인자는 리스트, 튜플, ndarray, 스칼라 값 등 다양한 형태. 텐서를 만드는 가장 일반적 형태임."
      ]
    },
    {
      "cell_type": "code",
      "metadata": {
        "id": "_sgjVeEt7bbM",
        "colab_type": "code",
        "colab": {
          "base_uri": "https://localhost:8080/",
          "height": 104
        },
        "outputId": "37c7b1bc-b55e-4daf-a967-60c34513ea61"
      },
      "source": [
        "x = torch.Tensor(5,3)\n",
        "print(x, x.dtype) # 의미없는 값."
      ],
      "execution_count": 29,
      "outputs": [
        {
          "output_type": "stream",
          "text": [
            "tensor([[2.7656e+09, 0.0000e+00, 2.1019e-44],\n",
            "        [0.0000e+00, 1.4013e-45, 0.0000e+00],\n",
            "        [1.8314e+25, 6.9768e+22, 2.7708e+20],\n",
            "        [2.2945e+02, 5.0664e+07, 3.9760e+12],\n",
            "        [1.0333e+18, 0.0000e+00, 0.0000e+00]]) torch.float32\n"
          ],
          "name": "stdout"
        }
      ]
    },
    {
      "cell_type": "code",
      "metadata": {
        "id": "tl2GY_O5C6IK",
        "colab_type": "code",
        "colab": {
          "base_uri": "https://localhost:8080/",
          "height": 69
        },
        "outputId": "7085f8b0-4863-4308-e622-78e91ffc1836"
      },
      "source": [
        "x = torch.tensor([[0.1, 1.2], [2.2, 3.1], [4.9, 5.2]])\n",
        "print(x, x.dtype)"
      ],
      "execution_count": 30,
      "outputs": [
        {
          "output_type": "stream",
          "text": [
            "tensor([[0.1000, 1.2000],\n",
            "        [2.2000, 3.1000],\n",
            "        [4.9000, 5.2000]]) torch.float32\n"
          ],
          "name": "stdout"
        }
      ]
    },
    {
      "cell_type": "code",
      "metadata": {
        "id": "cW6la-yPDH9J",
        "colab_type": "code",
        "colab": {
          "base_uri": "https://localhost:8080/",
          "height": 35
        },
        "outputId": "8abad155-a62b-4cc7-9c0f-a79f134d783a"
      },
      "source": [
        "x = torch.tensor([0, 1]) # dtype을 인자의 값에서 유추하여 설정\n",
        "print(x, x.dtype) "
      ],
      "execution_count": 31,
      "outputs": [
        {
          "output_type": "stream",
          "text": [
            "tensor([0, 1]) torch.int64\n"
          ],
          "name": "stdout"
        }
      ]
    },
    {
      "cell_type": "code",
      "metadata": {
        "id": "XiIAEMsfDhnD",
        "colab_type": "code",
        "colab": {
          "base_uri": "https://localhost:8080/",
          "height": 35
        },
        "outputId": "eda9aa6b-0beb-420e-b8c2-2a5e18f92d5c"
      },
      "source": [
        "y = torch.tensor([0.0, 1.0])\n",
        "print(y, y.dtype)"
      ],
      "execution_count": 32,
      "outputs": [
        {
          "output_type": "stream",
          "text": [
            "tensor([0., 1.]) torch.float32\n"
          ],
          "name": "stdout"
        }
      ]
    },
    {
      "cell_type": "code",
      "metadata": {
        "id": "uXESm1NKDuRb",
        "colab_type": "code",
        "colab": {
          "base_uri": "https://localhost:8080/",
          "height": 35
        },
        "outputId": "9443777f-7a41-4dba-d65c-875822a4a19a"
      },
      "source": [
        "z = torch.tensor([[0.11111, 0.222222, 0.3333333]], dtype=torch.float64, device=torch.device('cuda:0'))  # creates a torch.cuda.DoubleTensor\n",
        "print(z, z.dtype)"
      ],
      "execution_count": 33,
      "outputs": [
        {
          "output_type": "stream",
          "text": [
            "tensor([[0.1111, 0.2222, 0.3333]], device='cuda:0', dtype=torch.float64) torch.float64\n"
          ],
          "name": "stdout"
        }
      ]
    },
    {
      "cell_type": "markdown",
      "metadata": {
        "id": "lQEuNy5vD-pg",
        "colab_type": "text"
      },
      "source": [
        "CPU 환경에선 위 문장이 오류 발생.\n",
        "\n",
        "GPU 환경으로 런타임 변경 후 실행.\n",
        "\n"
      ]
    },
    {
      "cell_type": "code",
      "metadata": {
        "id": "dwa8thBDEfru",
        "colab_type": "code",
        "colab": {
          "base_uri": "https://localhost:8080/",
          "height": 35
        },
        "outputId": "2083771b-82e8-4088-c2c7-fb6966b5ddfa"
      },
      "source": [
        "x = torch.tensor(3.14159)  # Create a scalar (zero-dimensional tensor)\n",
        "print(x, x.dtype)"
      ],
      "execution_count": 34,
      "outputs": [
        {
          "output_type": "stream",
          "text": [
            "tensor(3.1416) torch.float32\n"
          ],
          "name": "stdout"
        }
      ]
    },
    {
      "cell_type": "code",
      "metadata": {
        "id": "nZWFXSYfEokb",
        "colab_type": "code",
        "colab": {
          "base_uri": "https://localhost:8080/",
          "height": 35
        },
        "outputId": "092927ca-d5e3-4fa4-9f61-cfd3268fadaf"
      },
      "source": [
        "x = torch.tensor([])  # Create an empty tensor (of size (0,))\n",
        "print(x, x.dtype)"
      ],
      "execution_count": 35,
      "outputs": [
        {
          "output_type": "stream",
          "text": [
            "tensor([]) torch.float32\n"
          ],
          "name": "stdout"
        }
      ]
    },
    {
      "cell_type": "code",
      "metadata": {
        "id": "aA5SyF_4EwJ4",
        "colab_type": "code",
        "colab": {}
      },
      "source": [
        "#x = torch.tensor(3,2) # 인자가 매치하지 않으므로 오류가 나야 함.\n",
        "#print(x, x.dtype)"
      ],
      "execution_count": 36,
      "outputs": []
    },
    {
      "cell_type": "markdown",
      "metadata": {
        "id": "gBo_tUJDD-d-",
        "colab_type": "text"
      },
      "source": [
        "\n",
        "\n",
        "---\n",
        "\n"
      ]
    },
    {
      "cell_type": "markdown",
      "metadata": {
        "id": "EvjOIQ1R7Uk7",
        "colab_type": "text"
      },
      "source": [
        "<h1>Random</h1>\n",
        "Construct a randomly initialized matrix:\n",
        "\n"
      ]
    },
    {
      "cell_type": "code",
      "metadata": {
        "id": "l2dA27aS7Uk8",
        "colab_type": "code",
        "colab": {
          "base_uri": "https://localhost:8080/",
          "height": 104
        },
        "outputId": "115b1e63-5334-48d6-c4bd-4b5ec0f997e0"
      },
      "source": [
        "x = torch.rand(5, 3)\n",
        "print(x)"
      ],
      "execution_count": 37,
      "outputs": [
        {
          "output_type": "stream",
          "text": [
            "tensor([[0.6901, 0.5737, 0.1355],\n",
            "        [0.9151, 0.9049, 0.4126],\n",
            "        [0.3773, 0.4832, 0.0362],\n",
            "        [0.6622, 0.1474, 0.1550],\n",
            "        [0.4327, 0.1972, 0.4039]])\n"
          ],
          "name": "stdout"
        }
      ]
    },
    {
      "cell_type": "markdown",
      "metadata": {
        "id": "dO-ILBPF7UlA",
        "colab_type": "text"
      },
      "source": [
        "Construct a matrix filled zeros and of dtype long:\n",
        "\n"
      ]
    },
    {
      "cell_type": "code",
      "metadata": {
        "id": "BXrPPioi7UlB",
        "colab_type": "code",
        "colab": {
          "base_uri": "https://localhost:8080/",
          "height": 104
        },
        "outputId": "d4b61943-08a1-4188-e7b8-07d8a2eb72ac"
      },
      "source": [
        "x = torch.zeros(5, 3, dtype=torch.long)\n",
        "print(x)"
      ],
      "execution_count": 38,
      "outputs": [
        {
          "output_type": "stream",
          "text": [
            "tensor([[0, 0, 0],\n",
            "        [0, 0, 0],\n",
            "        [0, 0, 0],\n",
            "        [0, 0, 0],\n",
            "        [0, 0, 0]])\n"
          ],
          "name": "stdout"
        }
      ]
    },
    {
      "cell_type": "markdown",
      "metadata": {
        "id": "8uUvcySc7UlF",
        "colab_type": "text"
      },
      "source": [
        "<h1>데이터를 인자로 주어 텐서 생성</h1>\n",
        "Construct a tensor directly from data:\n",
        "\n"
      ]
    },
    {
      "cell_type": "code",
      "metadata": {
        "id": "u7P031Pw7UlF",
        "colab_type": "code",
        "colab": {
          "base_uri": "https://localhost:8080/",
          "height": 35
        },
        "outputId": "ccc89e34-b8f0-4f18-c05e-f6216618b22f"
      },
      "source": [
        "x = torch.tensor([5.5, 3])\n",
        "print(x)"
      ],
      "execution_count": 39,
      "outputs": [
        {
          "output_type": "stream",
          "text": [
            "tensor([5.5000, 3.0000])\n"
          ],
          "name": "stdout"
        }
      ]
    },
    {
      "cell_type": "markdown",
      "metadata": {
        "id": "PnzSuXOJ7UlK",
        "colab_type": "text"
      },
      "source": [
        "or create a tensor based on an existing tensor. These methods\n",
        "will reuse properties of the input tensor, e.g. dtype, unless\n",
        "new values are provided by user\n",
        "\n"
      ]
    },
    {
      "cell_type": "code",
      "metadata": {
        "id": "hmpu5pfc7UlL",
        "colab_type": "code",
        "colab": {
          "base_uri": "https://localhost:8080/",
          "height": 190
        },
        "outputId": "76dab648-a930-4e43-aa4b-b283e5e98bdd"
      },
      "source": [
        "x = x.new_ones(5, 3, dtype=torch.double)      # new_* methods take in sizes\n",
        "print(x, x.dtype)\n",
        "\n",
        "x = torch.randn_like(x, dtype=torch.float)    # override dtype!\n",
        "print(x, x.dtype)                                      # result has the same size"
      ],
      "execution_count": 40,
      "outputs": [
        {
          "output_type": "stream",
          "text": [
            "tensor([[1., 1., 1.],\n",
            "        [1., 1., 1.],\n",
            "        [1., 1., 1.],\n",
            "        [1., 1., 1.],\n",
            "        [1., 1., 1.]], dtype=torch.float64) torch.float64\n",
            "tensor([[ 6.2149e-02,  1.1317e+00, -2.8233e-02],\n",
            "        [-1.0532e-01, -3.1601e-01,  1.6695e+00],\n",
            "        [ 1.5377e+00, -2.7045e-01,  1.6972e+00],\n",
            "        [ 2.5579e-01, -1.4533e+00,  1.3298e+00],\n",
            "        [-1.0005e+00, -4.4373e-04, -2.2297e-02]]) torch.float32\n"
          ],
          "name": "stdout"
        }
      ]
    },
    {
      "cell_type": "markdown",
      "metadata": {
        "id": "OCyOMo9A7UlP",
        "colab_type": "text"
      },
      "source": [
        "Get its size: size() or shape\n",
        "\n"
      ]
    },
    {
      "cell_type": "code",
      "metadata": {
        "id": "1EkFiBDE7UlQ",
        "colab_type": "code",
        "colab": {
          "base_uri": "https://localhost:8080/",
          "height": 52
        },
        "outputId": "6541aeee-8549-4432-fcf9-d352544dd304"
      },
      "source": [
        "print(x.size())\n",
        "print(x.shape)"
      ],
      "execution_count": 41,
      "outputs": [
        {
          "output_type": "stream",
          "text": [
            "torch.Size([5, 3])\n",
            "torch.Size([5, 3])\n"
          ],
          "name": "stdout"
        }
      ]
    },
    {
      "cell_type": "markdown",
      "metadata": {
        "id": "mxQHa5en7UlT",
        "colab_type": "text"
      },
      "source": [
        "<div class=\"alert alert-info\"><h4>Note</h4><p>``torch.Size`` is in fact a tuple, so it supports all tuple operations.</p></div>\n",
        "\n",
        "Operations\n",
        "^^^^^^^^^^\n",
        "There are multiple syntaxes for operations. In the following\n",
        "example, we will take a look at the addition operation.\n",
        "\n",
        "<h1>텐서 더하기</h1>\n",
        "\n",
        "Addition: syntax 1\n",
        "\n"
      ]
    },
    {
      "cell_type": "code",
      "metadata": {
        "id": "Sz1xU4YK7UlT",
        "colab_type": "code",
        "colab": {
          "base_uri": "https://localhost:8080/",
          "height": 328
        },
        "outputId": "3e6be525-3232-4895-bd1f-5a7c0273de7a"
      },
      "source": [
        "y = torch.rand(5, 3)\n",
        "print('x\\n', x)\n",
        "print('y\\n', y)\n",
        "print('x+y\\n', x + y)"
      ],
      "execution_count": 42,
      "outputs": [
        {
          "output_type": "stream",
          "text": [
            "x\n",
            " tensor([[ 6.2149e-02,  1.1317e+00, -2.8233e-02],\n",
            "        [-1.0532e-01, -3.1601e-01,  1.6695e+00],\n",
            "        [ 1.5377e+00, -2.7045e-01,  1.6972e+00],\n",
            "        [ 2.5579e-01, -1.4533e+00,  1.3298e+00],\n",
            "        [-1.0005e+00, -4.4373e-04, -2.2297e-02]])\n",
            "y\n",
            " tensor([[0.5124, 0.4810, 0.6813],\n",
            "        [0.1825, 0.9091, 0.9435],\n",
            "        [0.2758, 0.3931, 0.0245],\n",
            "        [0.9753, 0.6355, 0.2483],\n",
            "        [0.7985, 0.4970, 0.2984]])\n",
            "x+y\n",
            " tensor([[ 0.5745,  1.6128,  0.6530],\n",
            "        [ 0.0772,  0.5931,  2.6130],\n",
            "        [ 1.8135,  0.1226,  1.7216],\n",
            "        [ 1.2311, -0.8178,  1.5782],\n",
            "        [-0.2020,  0.4966,  0.2761]])\n"
          ],
          "name": "stdout"
        }
      ]
    },
    {
      "cell_type": "markdown",
      "metadata": {
        "id": "zaiOY_rI7UlX",
        "colab_type": "text"
      },
      "source": [
        "Addition: syntax 2\n",
        "\n"
      ]
    },
    {
      "cell_type": "code",
      "metadata": {
        "id": "7Q7F5VqH7UlX",
        "colab_type": "code",
        "colab": {
          "base_uri": "https://localhost:8080/",
          "height": 104
        },
        "outputId": "8d72bdd6-d9ad-4147-957a-8f2bed0f1018"
      },
      "source": [
        "print(torch.add(x, y))"
      ],
      "execution_count": 43,
      "outputs": [
        {
          "output_type": "stream",
          "text": [
            "tensor([[ 0.5745,  1.6128,  0.6530],\n",
            "        [ 0.0772,  0.5931,  2.6130],\n",
            "        [ 1.8135,  0.1226,  1.7216],\n",
            "        [ 1.2311, -0.8178,  1.5782],\n",
            "        [-0.2020,  0.4966,  0.2761]])\n"
          ],
          "name": "stdout"
        }
      ]
    },
    {
      "cell_type": "markdown",
      "metadata": {
        "id": "IBAdBU5B7Ulc",
        "colab_type": "text"
      },
      "source": [
        "Addition: providing an output tensor as argument\n",
        "\n"
      ]
    },
    {
      "cell_type": "code",
      "metadata": {
        "id": "O-6NBGio7Uld",
        "colab_type": "code",
        "colab": {
          "base_uri": "https://localhost:8080/",
          "height": 190
        },
        "outputId": "10e200bb-318e-4bae-956c-af7b7cad43a5"
      },
      "source": [
        "result = torch.empty(5, 3)\n",
        "torch.add(x, y, out=result)\n",
        "print(result)\n",
        "res = x + y\n",
        "print(res)"
      ],
      "execution_count": 44,
      "outputs": [
        {
          "output_type": "stream",
          "text": [
            "tensor([[ 0.5745,  1.6128,  0.6530],\n",
            "        [ 0.0772,  0.5931,  2.6130],\n",
            "        [ 1.8135,  0.1226,  1.7216],\n",
            "        [ 1.2311, -0.8178,  1.5782],\n",
            "        [-0.2020,  0.4966,  0.2761]])\n",
            "tensor([[ 0.5745,  1.6128,  0.6530],\n",
            "        [ 0.0772,  0.5931,  2.6130],\n",
            "        [ 1.8135,  0.1226,  1.7216],\n",
            "        [ 1.2311, -0.8178,  1.5782],\n",
            "        [-0.2020,  0.4966,  0.2761]])\n"
          ],
          "name": "stdout"
        }
      ]
    },
    {
      "cell_type": "markdown",
      "metadata": {
        "id": "BiQ9CkpD7Ulj",
        "colab_type": "text"
      },
      "source": [
        "Addition: in-place\n",
        "\n"
      ]
    },
    {
      "cell_type": "code",
      "metadata": {
        "id": "5SaaMGTg7Ulj",
        "colab_type": "code",
        "colab": {
          "base_uri": "https://localhost:8080/",
          "height": 104
        },
        "outputId": "e62bd50c-8c0e-4bf2-e0d7-47e91775ec5b"
      },
      "source": [
        "# adds x to y\n",
        "y.add_(x)\n",
        "print(y)"
      ],
      "execution_count": 45,
      "outputs": [
        {
          "output_type": "stream",
          "text": [
            "tensor([[ 0.5745,  1.6128,  0.6530],\n",
            "        [ 0.0772,  0.5931,  2.6130],\n",
            "        [ 1.8135,  0.1226,  1.7216],\n",
            "        [ 1.2311, -0.8178,  1.5782],\n",
            "        [-0.2020,  0.4966,  0.2761]])\n"
          ],
          "name": "stdout"
        }
      ]
    },
    {
      "cell_type": "markdown",
      "metadata": {
        "id": "5_0dSJ9E7Uln",
        "colab_type": "text"
      },
      "source": [
        "# **_로 끝나는 operation은 in-place**\n",
        "<div class=\"alert alert-info\"><h4>Note</h4><p>Any operation that mutates a tensor in-place is post-fixed with an ``_``.\n",
        "    For example: ``x.copy_(y)``, ``x.t_()``, will change ``x``.</p></div>\n",
        "\n",
        "You can use standard NumPy-like indexing with all bells and whistles!\n",
        "\n",
        "\n",
        "\n"
      ]
    },
    {
      "cell_type": "markdown",
      "metadata": {
        "id": "Fw3vCxzHNzZA",
        "colab_type": "text"
      },
      "source": [
        ""
      ]
    },
    {
      "cell_type": "markdown",
      "metadata": {
        "id": "arJAdPl4NzNt",
        "colab_type": "text"
      },
      "source": [
        ""
      ]
    },
    {
      "cell_type": "markdown",
      "metadata": {
        "id": "tmyxElsENy2Y",
        "colab_type": "text"
      },
      "source": [
        ""
      ]
    },
    {
      "cell_type": "markdown",
      "metadata": {
        "id": "AiYbw0VVDURl",
        "colab_type": "text"
      },
      "source": [
        "# Indexing tensors\n",
        "\n",
        "## Python slicing 과 유사\n",
        "\n",
        "![](https://drive.google.com/uc?export=view&id=1MqqMAPVwlE4QcXZRrlHBLBFNvUNQNBj-)\n"
      ]
    },
    {
      "cell_type": "code",
      "metadata": {
        "id": "P-ErepKhQUCw",
        "colab_type": "code",
        "colab": {
          "base_uri": "https://localhost:8080/",
          "height": 35
        },
        "outputId": "ab462934-1401-4bef-ca7e-0ae4ec471fa3"
      },
      "source": [
        "some_list = list(range(6))\n",
        "some_list[:]"
      ],
      "execution_count": 46,
      "outputs": [
        {
          "output_type": "execute_result",
          "data": {
            "text/plain": [
              "[0, 1, 2, 3, 4, 5]"
            ]
          },
          "metadata": {
            "tags": []
          },
          "execution_count": 46
        }
      ]
    },
    {
      "cell_type": "code",
      "metadata": {
        "id": "mz0aXCjAQgSC",
        "colab_type": "code",
        "colab": {
          "base_uri": "https://localhost:8080/",
          "height": 104
        },
        "outputId": "c2abacff-3387-4f65-b8de-f1ef644bea74"
      },
      "source": [
        "print(some_list[1:4])\n",
        "print(some_list[1:])\n",
        "print(some_list[:4])\n",
        "print(some_list[:-1])\n",
        "print(some_list[1:4:2]) # 1 to 3 ([1,2,3]), step 2 ([1,3])"
      ],
      "execution_count": 47,
      "outputs": [
        {
          "output_type": "stream",
          "text": [
            "[1, 2, 3]\n",
            "[1, 2, 3, 4, 5]\n",
            "[0, 1, 2, 3]\n",
            "[0, 1, 2, 3, 4]\n",
            "[1, 3]\n"
          ],
          "name": "stdout"
        }
      ]
    },
    {
      "cell_type": "code",
      "metadata": {
        "id": "TaUthXxcRUSD",
        "colab_type": "code",
        "colab": {
          "base_uri": "https://localhost:8080/",
          "height": 69
        },
        "outputId": "214c7aee-af98-4cf2-ffb0-a83407d94b39"
      },
      "source": [
        "points = torch.tensor([[4.0, 1.0], [5.0, 3.0], [2.0, 1.0]])\n",
        "print(points)\n"
      ],
      "execution_count": 48,
      "outputs": [
        {
          "output_type": "stream",
          "text": [
            "tensor([[4., 1.],\n",
            "        [5., 3.],\n",
            "        [2., 1.]])\n"
          ],
          "name": "stdout"
        }
      ]
    },
    {
      "cell_type": "code",
      "metadata": {
        "id": "4H6jBblIRmur",
        "colab_type": "code",
        "colab": {
          "base_uri": "https://localhost:8080/",
          "height": 52
        },
        "outputId": "7aebb70a-0ee7-416e-f5bc-e243c3d7e49a"
      },
      "source": [
        "print(points[1:])"
      ],
      "execution_count": 49,
      "outputs": [
        {
          "output_type": "stream",
          "text": [
            "tensor([[5., 3.],\n",
            "        [2., 1.]])\n"
          ],
          "name": "stdout"
        }
      ]
    },
    {
      "cell_type": "code",
      "metadata": {
        "id": "LbjyBa6yRe3L",
        "colab_type": "code",
        "colab": {
          "base_uri": "https://localhost:8080/",
          "height": 52
        },
        "outputId": "a5e5da6d-a9b8-4f95-a949-ebcf2d3550c7"
      },
      "source": [
        "print(points[1:, :])"
      ],
      "execution_count": 50,
      "outputs": [
        {
          "output_type": "stream",
          "text": [
            "tensor([[5., 3.],\n",
            "        [2., 1.]])\n"
          ],
          "name": "stdout"
        }
      ]
    },
    {
      "cell_type": "code",
      "metadata": {
        "id": "Zlsad4loRxr8",
        "colab_type": "code",
        "colab": {
          "base_uri": "https://localhost:8080/",
          "height": 35
        },
        "outputId": "63c26a4f-67ae-43b4-bac2-29ad42676830"
      },
      "source": [
        "print(points[1:, 0])"
      ],
      "execution_count": 51,
      "outputs": [
        {
          "output_type": "stream",
          "text": [
            "tensor([5., 2.])\n"
          ],
          "name": "stdout"
        }
      ]
    },
    {
      "cell_type": "code",
      "metadata": {
        "id": "74gXkYgRR4DZ",
        "colab_type": "code",
        "colab": {
          "base_uri": "https://localhost:8080/",
          "height": 69
        },
        "outputId": "d2b71540-1d13-4137-8e52-ea47948ef069"
      },
      "source": [
        "print(points[None])"
      ],
      "execution_count": 52,
      "outputs": [
        {
          "output_type": "stream",
          "text": [
            "tensor([[[4., 1.],\n",
            "         [5., 3.],\n",
            "         [2., 1.]]])\n"
          ],
          "name": "stdout"
        }
      ]
    },
    {
      "cell_type": "code",
      "metadata": {
        "id": "KusDoy97R-Xp",
        "colab_type": "code",
        "colab": {
          "base_uri": "https://localhost:8080/",
          "height": 35
        },
        "outputId": "225b54f8-abcd-4b47-a1ec-8e6041c49200"
      },
      "source": [
        "print(points[None].size())"
      ],
      "execution_count": 53,
      "outputs": [
        {
          "output_type": "stream",
          "text": [
            "torch.Size([1, 3, 2])\n"
          ],
          "name": "stdout"
        }
      ]
    },
    {
      "cell_type": "code",
      "metadata": {
        "id": "G4ruWO_ASEr7",
        "colab_type": "code",
        "colab": {
          "base_uri": "https://localhost:8080/",
          "height": 69
        },
        "outputId": "fd629f47-4d60-47d5-f26b-b8f0d70296f3"
      },
      "source": [
        "print(points.unsqueeze(dim=0), points.unsqueeze(dim=0).size())"
      ],
      "execution_count": 54,
      "outputs": [
        {
          "output_type": "stream",
          "text": [
            "tensor([[[4., 1.],\n",
            "         [5., 3.],\n",
            "         [2., 1.]]]) torch.Size([1, 3, 2])\n"
          ],
          "name": "stdout"
        }
      ]
    },
    {
      "cell_type": "code",
      "metadata": {
        "id": "GVbOJlAK7Uln",
        "colab_type": "code",
        "colab": {
          "base_uri": "https://localhost:8080/",
          "height": 121
        },
        "outputId": "c2e603a7-cf2f-4893-a0d3-666c23fa0e9a"
      },
      "source": [
        "print(x)\n",
        "print(x[:, 1])"
      ],
      "execution_count": 55,
      "outputs": [
        {
          "output_type": "stream",
          "text": [
            "tensor([[ 6.2149e-02,  1.1317e+00, -2.8233e-02],\n",
            "        [-1.0532e-01, -3.1601e-01,  1.6695e+00],\n",
            "        [ 1.5377e+00, -2.7045e-01,  1.6972e+00],\n",
            "        [ 2.5579e-01, -1.4533e+00,  1.3298e+00],\n",
            "        [-1.0005e+00, -4.4373e-04, -2.2297e-02]])\n",
            "tensor([ 1.1317e+00, -3.1601e-01, -2.7045e-01, -1.4533e+00, -4.4373e-04])\n"
          ],
          "name": "stdout"
        }
      ]
    },
    {
      "cell_type": "markdown",
      "metadata": {
        "id": "PtM1p8247Ulq",
        "colab_type": "text"
      },
      "source": [
        "\n",
        "\n",
        "---\n",
        "\n",
        "Resizing: If you want to resize/reshape tensor, you can use ``torch.view``:\n",
        "\n"
      ]
    },
    {
      "cell_type": "code",
      "metadata": {
        "id": "haFkaiMr7Ulr",
        "colab_type": "code",
        "colab": {
          "base_uri": "https://localhost:8080/",
          "height": 207
        },
        "outputId": "731f762f-aeaa-47e7-ed8d-36915edb2764"
      },
      "source": [
        "x = torch.randn(4, 4)\n",
        "y = x.view(16)\n",
        "z = x.view(-1, 8)  # the size -1 is inferred from other dimensions\n",
        "print('x.size()=', x.size(), '\\ny.size()=', y.size(), '\\nz.size()=', z.size())\n",
        "print(x, '\\n', y, '\\n', z)"
      ],
      "execution_count": 56,
      "outputs": [
        {
          "output_type": "stream",
          "text": [
            "x.size()= torch.Size([4, 4]) \n",
            "y.size()= torch.Size([16]) \n",
            "z.size()= torch.Size([2, 8])\n",
            "tensor([[ 0.1271, -2.2375,  1.5773,  0.0976],\n",
            "        [-0.9709,  1.2337,  1.9824,  1.2391],\n",
            "        [ 0.9222, -1.6150,  1.0503,  1.3855],\n",
            "        [-0.1771,  0.5662,  0.6928,  0.2521]]) \n",
            " tensor([ 0.1271, -2.2375,  1.5773,  0.0976, -0.9709,  1.2337,  1.9824,  1.2391,\n",
            "         0.9222, -1.6150,  1.0503,  1.3855, -0.1771,  0.5662,  0.6928,  0.2521]) \n",
            " tensor([[ 0.1271, -2.2375,  1.5773,  0.0976, -0.9709,  1.2337,  1.9824,  1.2391],\n",
            "        [ 0.9222, -1.6150,  1.0503,  1.3855, -0.1771,  0.5662,  0.6928,  0.2521]])\n"
          ],
          "name": "stdout"
        }
      ]
    },
    {
      "cell_type": "markdown",
      "metadata": {
        "id": "TFisNwfaMkLP",
        "colab_type": "text"
      },
      "source": [
        "\n",
        "\n",
        "---\n",
        "저장 형태\n"
      ]
    },
    {
      "cell_type": "markdown",
      "metadata": {
        "id": "TwhYBfjLRIDF",
        "colab_type": "text"
      },
      "source": [
        "![](https://drive.google.com/uc?export=view&id=1wmqtH9XucnuGg11_a_oK9kODDH_C7nZI)"
      ]
    },
    {
      "cell_type": "markdown",
      "metadata": {
        "id": "mHOEl39GRHmH",
        "colab_type": "text"
      },
      "source": [
        ""
      ]
    },
    {
      "cell_type": "code",
      "metadata": {
        "id": "gc9fruJGXU9C",
        "colab_type": "code",
        "colab": {
          "base_uri": "https://localhost:8080/",
          "height": 190
        },
        "outputId": "18b57265-f887-4635-babb-34573a219d75"
      },
      "source": [
        "points = torch.tensor([[4.0, 1.0], [5.0, 3.0], [2.0, 1.0]])\n",
        "print(points)\n",
        "points.storage()"
      ],
      "execution_count": 57,
      "outputs": [
        {
          "output_type": "stream",
          "text": [
            "tensor([[4., 1.],\n",
            "        [5., 3.],\n",
            "        [2., 1.]])\n"
          ],
          "name": "stdout"
        },
        {
          "output_type": "execute_result",
          "data": {
            "text/plain": [
              " 4.0\n",
              " 1.0\n",
              " 5.0\n",
              " 3.0\n",
              " 2.0\n",
              " 1.0\n",
              "[torch.FloatStorage of size 6]"
            ]
          },
          "metadata": {
            "tags": []
          },
          "execution_count": 57
        }
      ]
    },
    {
      "cell_type": "code",
      "metadata": {
        "id": "Zx4rg4spz0lP",
        "colab_type": "code",
        "colab": {
          "base_uri": "https://localhost:8080/",
          "height": 173
        },
        "outputId": "24d2e60b-dea2-4d9f-bb5d-dc50bfadf74d"
      },
      "source": [
        "p2 = points.view(2,3)\n",
        "print(p2)\n",
        "print(p2.storage())"
      ],
      "execution_count": 58,
      "outputs": [
        {
          "output_type": "stream",
          "text": [
            "tensor([[4., 1., 5.],\n",
            "        [3., 2., 1.]])\n",
            " 4.0\n",
            " 1.0\n",
            " 5.0\n",
            " 3.0\n",
            " 2.0\n",
            " 1.0\n",
            "[torch.FloatStorage of size 6]\n"
          ],
          "name": "stdout"
        }
      ]
    },
    {
      "cell_type": "markdown",
      "metadata": {
        "id": "Y9OqARex0scO",
        "colab_type": "text"
      },
      "source": [
        "# 주의 사항\n",
        "storage() 함수는 일반적 함수가 아니며 호환성이 보장되지 않음. 즉 언제든 없어질 수 있음.\n",
        "여기서는 파이토치 텐서 구조를 이해하기 위해 사용하고 있는 것임.\n",
        "\n",
        "또 storage()로 구한 어레이의 값을 바꾸는 것도 위험한 일임."
      ]
    },
    {
      "cell_type": "code",
      "metadata": {
        "id": "QJ1qRSsk0brL",
        "colab_type": "code",
        "colab": {
          "base_uri": "https://localhost:8080/",
          "height": 138
        },
        "outputId": "ab421a61-0def-4d73-b68f-fa04080d732d"
      },
      "source": [
        "points_storage = points.storage()\n",
        "print(points_storage)"
      ],
      "execution_count": 59,
      "outputs": [
        {
          "output_type": "stream",
          "text": [
            " 4.0\n",
            " 1.0\n",
            " 5.0\n",
            " 3.0\n",
            " 2.0\n",
            " 1.0\n",
            "[torch.FloatStorage of size 6]\n"
          ],
          "name": "stdout"
        }
      ]
    },
    {
      "cell_type": "code",
      "metadata": {
        "id": "Iqn1LeSV1TGz",
        "colab_type": "code",
        "colab": {
          "base_uri": "https://localhost:8080/",
          "height": 69
        },
        "outputId": "7dcc3774-a2dd-47ae-8a1d-770006fe5f30"
      },
      "source": [
        "points_storage[0] = 2.0\n",
        "points"
      ],
      "execution_count": 60,
      "outputs": [
        {
          "output_type": "execute_result",
          "data": {
            "text/plain": [
              "tensor([[2., 1.],\n",
              "        [5., 3.],\n",
              "        [2., 1.]])"
            ]
          },
          "metadata": {
            "tags": []
          },
          "execution_count": 60
        }
      ]
    },
    {
      "cell_type": "markdown",
      "metadata": {
        "id": "6pMhgP8zZhKK",
        "colab_type": "text"
      },
      "source": [
        "\n",
        "\n",
        "---\n",
        "# Tensor metadata\n",
        "\n",
        "\n",
        "![](https://drive.google.com/uc?export=view&id=1n0onCe209LOMfGvdYYn9DQVcLJ5Kv7_5)"
      ]
    },
    {
      "cell_type": "code",
      "metadata": {
        "id": "MArZmydSLSaC",
        "colab_type": "code",
        "colab": {
          "base_uri": "https://localhost:8080/",
          "height": 190
        },
        "outputId": "5b2226d8-a227-46f2-b4db-74dddcbaa364"
      },
      "source": [
        "points = torch.tensor([[5,7,4],[1,3,2],[7,3,8]])\n",
        "points.storage()"
      ],
      "execution_count": 61,
      "outputs": [
        {
          "output_type": "execute_result",
          "data": {
            "text/plain": [
              " 5\n",
              " 7\n",
              " 4\n",
              " 1\n",
              " 3\n",
              " 2\n",
              " 7\n",
              " 3\n",
              " 8\n",
              "[torch.LongStorage of size 9]"
            ]
          },
          "metadata": {
            "tags": []
          },
          "execution_count": 61
        }
      ]
    },
    {
      "cell_type": "code",
      "metadata": {
        "id": "DnphNOkvXU7S",
        "colab_type": "code",
        "colab": {
          "base_uri": "https://localhost:8080/",
          "height": 207
        },
        "outputId": "033c70c7-2fa2-4ac5-d403-df231ddc3c12"
      },
      "source": [
        "points = torch.tensor([[4.0, 1.0], [5.0, 3.0], [2.0, 1.0]])\n",
        "print(points)\n",
        "print(points.storage())\n",
        "print(points.storage_offset())"
      ],
      "execution_count": 62,
      "outputs": [
        {
          "output_type": "stream",
          "text": [
            "tensor([[4., 1.],\n",
            "        [5., 3.],\n",
            "        [2., 1.]])\n",
            " 4.0\n",
            " 1.0\n",
            " 5.0\n",
            " 3.0\n",
            " 2.0\n",
            " 1.0\n",
            "[torch.FloatStorage of size 6]\n",
            "0\n"
          ],
          "name": "stdout"
        }
      ]
    },
    {
      "cell_type": "code",
      "metadata": {
        "id": "xUGtNrq_anAx",
        "colab_type": "code",
        "colab": {
          "base_uri": "https://localhost:8080/",
          "height": 69
        },
        "outputId": "c8e7b38b-5b4e-4a10-e69f-0329120136db"
      },
      "source": [
        "second_point = points[1]\n",
        "print('second_point', second_point)\n",
        "print('storage_offset()', second_point.storage_offset())\n",
        "print('points[1].storage_offset()', points[1].storage_offset())\n"
      ],
      "execution_count": 63,
      "outputs": [
        {
          "output_type": "stream",
          "text": [
            "second_point tensor([5., 3.])\n",
            "storage_offset() 2\n",
            "points[1].storage_offset() 2\n"
          ],
          "name": "stdout"
        }
      ]
    },
    {
      "cell_type": "markdown",
      "metadata": {
        "id": "Z9ngQDZ7-Zf5",
        "colab_type": "text"
      },
      "source": [
        "##second_point는 데이터가 복사된 것이 아니라 메타데이터만 바뀐 것임"
      ]
    },
    {
      "cell_type": "code",
      "metadata": {
        "id": "hXOA-bY1cCcG",
        "colab_type": "code",
        "colab": {
          "base_uri": "https://localhost:8080/",
          "height": 52
        },
        "outputId": "56ad5696-b221-43a9-eb80-8e94ceffd686"
      },
      "source": [
        "print(points.size())\n",
        "print(points.stride())"
      ],
      "execution_count": 64,
      "outputs": [
        {
          "output_type": "stream",
          "text": [
            "torch.Size([3, 2])\n",
            "(2, 1)\n"
          ],
          "name": "stdout"
        }
      ]
    },
    {
      "cell_type": "code",
      "metadata": {
        "id": "XYiAbQxmb-TI",
        "colab_type": "code",
        "colab": {
          "base_uri": "https://localhost:8080/",
          "height": 52
        },
        "outputId": "bee832d1-7f34-47b4-aa55-9d51f8c8b579"
      },
      "source": [
        "print(second_point.size())\n",
        "print(second_point.stride())"
      ],
      "execution_count": 65,
      "outputs": [
        {
          "output_type": "stream",
          "text": [
            "torch.Size([2])\n",
            "(1,)\n"
          ],
          "name": "stdout"
        }
      ]
    },
    {
      "cell_type": "code",
      "metadata": {
        "id": "vQukNSiCcTkg",
        "colab_type": "code",
        "colab": {
          "base_uri": "https://localhost:8080/",
          "height": 35
        },
        "outputId": "d99d7ddd-f18d-4eb9-d3cf-54d1c4ce2130"
      },
      "source": [
        "print(points.stride())"
      ],
      "execution_count": 66,
      "outputs": [
        {
          "output_type": "stream",
          "text": [
            "(2, 1)\n"
          ],
          "name": "stdout"
        }
      ]
    },
    {
      "cell_type": "code",
      "metadata": {
        "id": "WyGH1KI0ZZS4",
        "colab_type": "code",
        "colab": {
          "base_uri": "https://localhost:8080/",
          "height": 35
        },
        "outputId": "c2c078eb-910d-472e-80c6-987b6c67e503"
      },
      "source": [
        "print(second_point.shape)"
      ],
      "execution_count": 67,
      "outputs": [
        {
          "output_type": "stream",
          "text": [
            "torch.Size([2])\n"
          ],
          "name": "stdout"
        }
      ]
    },
    {
      "cell_type": "markdown",
      "metadata": {
        "id": "hWOjiK5Qc6rV",
        "colab_type": "text"
      },
      "source": [
        "##데이터 액세스는 offset, stride를 이용하여 위치를 계산.\n",
        "\n",
        "2D tensor [i, j] element access\n",
        "\n",
        "storage_offset + stride[0] * i + stride[1] * j"
      ]
    },
    {
      "cell_type": "code",
      "metadata": {
        "id": "W31tT0IuXU3s",
        "colab_type": "code",
        "colab": {
          "base_uri": "https://localhost:8080/",
          "height": 155
        },
        "outputId": "f4248273-e715-4635-81c2-b28ccc4b1134"
      },
      "source": [
        "storage = points.storage()\n",
        "storage_offset = points.storage_offset()\n",
        "stride = points.stride()\n",
        "print(storage, storage_offset, stride)\n",
        "print(points[2, 1])\n"
      ],
      "execution_count": 68,
      "outputs": [
        {
          "output_type": "stream",
          "text": [
            " 4.0\n",
            " 1.0\n",
            " 5.0\n",
            " 3.0\n",
            " 2.0\n",
            " 1.0\n",
            "[torch.FloatStorage of size 6] 0 (2, 1)\n",
            "tensor(1.)\n"
          ],
          "name": "stdout"
        }
      ]
    },
    {
      "cell_type": "code",
      "metadata": {
        "id": "qogfmsikdvgS",
        "colab_type": "code",
        "colab": {
          "base_uri": "https://localhost:8080/",
          "height": 35
        },
        "outputId": "4c1996e6-1775-4a8c-9c3c-f0df2d7a7610"
      },
      "source": [
        "print(storage[storage_offset + stride[0] * 2 + stride[1] * 1])"
      ],
      "execution_count": 69,
      "outputs": [
        {
          "output_type": "stream",
          "text": [
            "1.0\n"
          ],
          "name": "stdout"
        }
      ]
    },
    {
      "cell_type": "markdown",
      "metadata": {
        "id": "0RXGo7egiLVP",
        "colab_type": "text"
      },
      "source": [
        "## storage를 변경하면 원래 텐서도 바뀐다\n",
        "## 이렇게 사용하는 것은 권장되지 않는 방법이고 이해를 위해 storage를 설명한 것임\n"
      ]
    },
    {
      "cell_type": "code",
      "metadata": {
        "id": "yNqLHXI8iDoI",
        "colab_type": "code",
        "colab": {
          "base_uri": "https://localhost:8080/",
          "height": 69
        },
        "outputId": "e840f47e-038d-425c-9300-fb7dfca63b73"
      },
      "source": [
        "points = torch.tensor([[4.0, 1.0], [5.0, 3.0], [2.0, 1.0]])\n",
        "second_point = points[1]\n",
        "second_point[0] = 10.0\n",
        "points"
      ],
      "execution_count": 70,
      "outputs": [
        {
          "output_type": "execute_result",
          "data": {
            "text/plain": [
              "tensor([[ 4.,  1.],\n",
              "        [10.,  3.],\n",
              "        [ 2.,  1.]])"
            ]
          },
          "metadata": {
            "tags": []
          },
          "execution_count": 70
        }
      ]
    },
    {
      "cell_type": "markdown",
      "metadata": {
        "id": "FQSb1YYY_okl",
        "colab_type": "text"
      },
      "source": [
        "## second_point 뿐 아니라 points도 바뀜\n",
        "\n",
        "---"
      ]
    },
    {
      "cell_type": "markdown",
      "metadata": {
        "id": "LNQDi3qWiI5d",
        "colab_type": "text"
      },
      "source": [
        "## clone을 쓰면 storage를 복사한다"
      ]
    },
    {
      "cell_type": "code",
      "metadata": {
        "id": "fqAooprUXU1t",
        "colab_type": "code",
        "colab": {
          "base_uri": "https://localhost:8080/",
          "height": 69
        },
        "outputId": "9282bb49-06c2-497a-fc93-2fce8667f0c3"
      },
      "source": [
        "points = torch.tensor([[4.0, 1.0], [5.0, 3.0], [2.0, 1.0]])\n",
        "second_point = points[1].clone()\n",
        "second_point[0] = 10.0\n",
        "points"
      ],
      "execution_count": 71,
      "outputs": [
        {
          "output_type": "execute_result",
          "data": {
            "text/plain": [
              "tensor([[4., 1.],\n",
              "        [5., 3.],\n",
              "        [2., 1.]])"
            ]
          },
          "metadata": {
            "tags": []
          },
          "execution_count": 71
        }
      ]
    },
    {
      "cell_type": "markdown",
      "metadata": {
        "id": "y4YovVqK_0mo",
        "colab_type": "text"
      },
      "source": [
        "---\n",
        "# transpose"
      ]
    },
    {
      "cell_type": "markdown",
      "metadata": {
        "id": "ootSg00esWgO",
        "colab_type": "text"
      },
      "source": [
        "![](https://drive.google.com/uc?export=view&id=1oI0ZelEcsTW_iztuXYCsUFL6Mnj3fLb9)"
      ]
    },
    {
      "cell_type": "code",
      "metadata": {
        "id": "5tIjw-kzXUyH",
        "colab_type": "code",
        "colab": {
          "base_uri": "https://localhost:8080/",
          "height": 52
        },
        "outputId": "90642a00-3e3b-4091-b897-dcf74e65cafc"
      },
      "source": [
        "points = torch.tensor([[3.0, 1.0, 2.0], [4.0, 1.0, 7.0]])\n",
        "print(points)"
      ],
      "execution_count": 72,
      "outputs": [
        {
          "output_type": "stream",
          "text": [
            "tensor([[3., 1., 2.],\n",
            "        [4., 1., 7.]])\n"
          ],
          "name": "stdout"
        }
      ]
    },
    {
      "cell_type": "markdown",
      "metadata": {
        "id": "lAKezqKzuTcr",
        "colab_type": "text"
      },
      "source": [
        "## 서로 바꿀 두 디멘션을 지정"
      ]
    },
    {
      "cell_type": "code",
      "metadata": {
        "id": "MM_rl3L6XUvW",
        "colab_type": "code",
        "colab": {}
      },
      "source": [
        "points_tr = points.transpose(0, 1)"
      ],
      "execution_count": 73,
      "outputs": []
    },
    {
      "cell_type": "code",
      "metadata": {
        "id": "n8zohU17XUdN",
        "colab_type": "code",
        "colab": {
          "base_uri": "https://localhost:8080/",
          "height": 69
        },
        "outputId": "b46e1257-3dc3-44ed-d595-a643ce032380"
      },
      "source": [
        "points_tr"
      ],
      "execution_count": 74,
      "outputs": [
        {
          "output_type": "execute_result",
          "data": {
            "text/plain": [
              "tensor([[3., 4.],\n",
              "        [1., 1.],\n",
              "        [2., 7.]])"
            ]
          },
          "metadata": {
            "tags": []
          },
          "execution_count": 74
        }
      ]
    },
    {
      "cell_type": "code",
      "metadata": {
        "id": "_opwW0h6thqX",
        "colab_type": "code",
        "colab": {
          "base_uri": "https://localhost:8080/",
          "height": 173
        },
        "outputId": "cbfce560-acc7-4400-9849-b43a8f846069"
      },
      "source": [
        "print(points_tr.storage())\n",
        "print(points.stride())\n",
        "print(points_tr.stride())"
      ],
      "execution_count": 75,
      "outputs": [
        {
          "output_type": "stream",
          "text": [
            " 3.0\n",
            " 1.0\n",
            " 2.0\n",
            " 4.0\n",
            " 1.0\n",
            " 7.0\n",
            "[torch.FloatStorage of size 6]\n",
            "(3, 1)\n",
            "(1, 3)\n"
          ],
          "name": "stdout"
        }
      ]
    },
    {
      "cell_type": "code",
      "metadata": {
        "id": "QXYiybxH-Ny2",
        "colab_type": "code",
        "colab": {
          "base_uri": "https://localhost:8080/",
          "height": 52
        },
        "outputId": "8f4b5f2f-9945-4882-c2e4-c9cf8e8466dd"
      },
      "source": [
        "points"
      ],
      "execution_count": 76,
      "outputs": [
        {
          "output_type": "execute_result",
          "data": {
            "text/plain": [
              "tensor([[3., 1., 2.],\n",
              "        [4., 1., 7.]])"
            ]
          },
          "metadata": {
            "tags": []
          },
          "execution_count": 76
        }
      ]
    },
    {
      "cell_type": "code",
      "metadata": {
        "id": "24htwWmM-9__",
        "colab_type": "code",
        "colab": {
          "base_uri": "https://localhost:8080/",
          "height": 69
        },
        "outputId": "e31d0f11-74d3-4021-f212-2c2ed42548be"
      },
      "source": [
        "points_t = points.t() # 2D or less dimension\n",
        "print(points_t)"
      ],
      "execution_count": 78,
      "outputs": [
        {
          "output_type": "stream",
          "text": [
            "tensor([[3., 4.],\n",
            "        [1., 1.],\n",
            "        [2., 7.]])\n"
          ],
          "name": "stdout"
        }
      ]
    },
    {
      "cell_type": "code",
      "metadata": {
        "id": "Qr0RemkVAsLV",
        "colab_type": "code",
        "colab": {
          "base_uri": "https://localhost:8080/",
          "height": 138
        },
        "outputId": "39ad8948-60cd-4a54-e8c4-99a7e2ddcecd"
      },
      "source": [
        "points.storage()"
      ],
      "execution_count": 86,
      "outputs": [
        {
          "output_type": "execute_result",
          "data": {
            "text/plain": [
              " 3.0\n",
              " 1.0\n",
              " 2.0\n",
              " 4.0\n",
              " 1.0\n",
              " 7.0\n",
              "[torch.FloatStorage of size 6]"
            ]
          },
          "metadata": {
            "tags": []
          },
          "execution_count": 86
        }
      ]
    },
    {
      "cell_type": "code",
      "metadata": {
        "id": "fhB3eiBcAgia",
        "colab_type": "code",
        "colab": {
          "base_uri": "https://localhost:8080/",
          "height": 138
        },
        "outputId": "f658d6a5-2404-4fbb-c770-a063710bad23"
      },
      "source": [
        "points_t.storage()"
      ],
      "execution_count": 85,
      "outputs": [
        {
          "output_type": "execute_result",
          "data": {
            "text/plain": [
              " 3.0\n",
              " 1.0\n",
              " 2.0\n",
              " 4.0\n",
              " 1.0\n",
              " 7.0\n",
              "[torch.FloatStorage of size 6]"
            ]
          },
          "metadata": {
            "tags": []
          },
          "execution_count": 85
        }
      ]
    },
    {
      "cell_type": "code",
      "metadata": {
        "id": "ZAbZNlfBBILT",
        "colab_type": "code",
        "colab": {
          "base_uri": "https://localhost:8080/",
          "height": 155
        },
        "outputId": "227c0c04-a3b2-4f64-b560-a11c51b491c8"
      },
      "source": [
        "print(points.storage(), points)"
      ],
      "execution_count": 92,
      "outputs": [
        {
          "output_type": "stream",
          "text": [
            " 3.0\n",
            " 1.0\n",
            " 2.0\n",
            " 4.0\n",
            " 1.0\n",
            " 7.0\n",
            "[torch.FloatStorage of size 6] tensor([[3., 1., 2.],\n",
            "        [4., 1., 7.]])\n"
          ],
          "name": "stdout"
        }
      ]
    },
    {
      "cell_type": "code",
      "metadata": {
        "id": "hWqm0RphBA7e",
        "colab_type": "code",
        "colab": {
          "base_uri": "https://localhost:8080/",
          "height": 35
        },
        "outputId": "f39a0273-bc39-4482-bf78-160138e48430"
      },
      "source": [
        "points.stride()"
      ],
      "execution_count": 88,
      "outputs": [
        {
          "output_type": "execute_result",
          "data": {
            "text/plain": [
              "(3, 1)"
            ]
          },
          "metadata": {
            "tags": []
          },
          "execution_count": 88
        }
      ]
    },
    {
      "cell_type": "code",
      "metadata": {
        "id": "ZBfeVUZtBYGM",
        "colab_type": "code",
        "colab": {
          "base_uri": "https://localhost:8080/",
          "height": 69
        },
        "outputId": "f78fc972-6f55-4567-b813-c7eb3d7b136d"
      },
      "source": [
        "points_t"
      ],
      "execution_count": 93,
      "outputs": [
        {
          "output_type": "execute_result",
          "data": {
            "text/plain": [
              "tensor([[3., 4.],\n",
              "        [1., 1.],\n",
              "        [2., 7.]])"
            ]
          },
          "metadata": {
            "tags": []
          },
          "execution_count": 93
        }
      ]
    },
    {
      "cell_type": "code",
      "metadata": {
        "id": "hDDTCXo6BE00",
        "colab_type": "code",
        "colab": {
          "base_uri": "https://localhost:8080/",
          "height": 35
        },
        "outputId": "86f79785-4f04-4484-8b86-35a50c477d6a"
      },
      "source": [
        "points_t.stride()"
      ],
      "execution_count": 89,
      "outputs": [
        {
          "output_type": "execute_result",
          "data": {
            "text/plain": [
              "(1, 3)"
            ]
          },
          "metadata": {
            "tags": []
          },
          "execution_count": 89
        }
      ]
    },
    {
      "cell_type": "markdown",
      "metadata": {
        "id": "poEaK4-iBo18",
        "colab_type": "text"
      },
      "source": [
        "![](https://drive.google.com/uc?export=view&id=1oI0ZelEcsTW_iztuXYCsUFL6Mnj3fLb9)"
      ]
    },
    {
      "cell_type": "markdown",
      "metadata": {
        "id": "nvEXhWvQuNZX",
        "colab_type": "text"
      },
      "source": [
        "## Multidimensional"
      ]
    },
    {
      "cell_type": "code",
      "metadata": {
        "id": "1HceVTdXt_Ad",
        "colab_type": "code",
        "colab": {
          "base_uri": "https://localhost:8080/",
          "height": 35
        },
        "outputId": "7ad9cb6d-f949-4d2b-ecfa-053377e03911"
      },
      "source": [
        "some_t = torch.ones(3, 4, 5)\n",
        "transpose_t = some_t.transpose(0, 2) # 0번째와 2번째 디멘션을 transpose\n",
        "some_t.shape"
      ],
      "execution_count": 94,
      "outputs": [
        {
          "output_type": "execute_result",
          "data": {
            "text/plain": [
              "torch.Size([3, 4, 5])"
            ]
          },
          "metadata": {
            "tags": []
          },
          "execution_count": 94
        }
      ]
    },
    {
      "cell_type": "code",
      "metadata": {
        "id": "zCrT03VjCB-3",
        "colab_type": "code",
        "colab": {
          "base_uri": "https://localhost:8080/",
          "height": 259
        },
        "outputId": "99bd440e-b165-4fde-b5e9-7d5f5c920f2d"
      },
      "source": [
        "some_t"
      ],
      "execution_count": 95,
      "outputs": [
        {
          "output_type": "execute_result",
          "data": {
            "text/plain": [
              "tensor([[[1., 1., 1., 1., 1.],\n",
              "         [1., 1., 1., 1., 1.],\n",
              "         [1., 1., 1., 1., 1.],\n",
              "         [1., 1., 1., 1., 1.]],\n",
              "\n",
              "        [[1., 1., 1., 1., 1.],\n",
              "         [1., 1., 1., 1., 1.],\n",
              "         [1., 1., 1., 1., 1.],\n",
              "         [1., 1., 1., 1., 1.]],\n",
              "\n",
              "        [[1., 1., 1., 1., 1.],\n",
              "         [1., 1., 1., 1., 1.],\n",
              "         [1., 1., 1., 1., 1.],\n",
              "         [1., 1., 1., 1., 1.]]])"
            ]
          },
          "metadata": {
            "tags": []
          },
          "execution_count": 95
        }
      ]
    },
    {
      "cell_type": "code",
      "metadata": {
        "id": "KuzPbyUMvQZS",
        "colab_type": "code",
        "colab": {
          "base_uri": "https://localhost:8080/",
          "height": 35
        },
        "outputId": "904f34ad-d3f7-4e80-910d-ff3b2c116993"
      },
      "source": [
        "\n",
        "transpose_t.shape\n"
      ],
      "execution_count": 97,
      "outputs": [
        {
          "output_type": "execute_result",
          "data": {
            "text/plain": [
              "torch.Size([5, 4, 3])"
            ]
          },
          "metadata": {
            "tags": []
          },
          "execution_count": 97
        }
      ]
    },
    {
      "cell_type": "code",
      "metadata": {
        "id": "WduGxrEGvV17",
        "colab_type": "code",
        "colab": {
          "base_uri": "https://localhost:8080/",
          "height": 35
        },
        "outputId": "a5746b27-144c-4645-d5ac-f2debfa99922"
      },
      "source": [
        "\n",
        "some_t.stride()\n"
      ],
      "execution_count": 98,
      "outputs": [
        {
          "output_type": "execute_result",
          "data": {
            "text/plain": [
              "(20, 5, 1)"
            ]
          },
          "metadata": {
            "tags": []
          },
          "execution_count": 98
        }
      ]
    },
    {
      "cell_type": "code",
      "metadata": {
        "id": "XDUvoKnEvaJu",
        "colab_type": "code",
        "colab": {
          "base_uri": "https://localhost:8080/",
          "height": 35
        },
        "outputId": "00dede93-daee-4b22-8e27-be9795570a58"
      },
      "source": [
        "\n",
        "transpose_t.stride()\n"
      ],
      "execution_count": 99,
      "outputs": [
        {
          "output_type": "execute_result",
          "data": {
            "text/plain": [
              "(1, 5, 20)"
            ]
          },
          "metadata": {
            "tags": []
          },
          "execution_count": 99
        }
      ]
    },
    {
      "cell_type": "code",
      "metadata": {
        "id": "zgGU-c64Cn4X",
        "colab_type": "code",
        "colab": {}
      },
      "source": [
        ""
      ],
      "execution_count": null,
      "outputs": []
    },
    {
      "cell_type": "markdown",
      "metadata": {
        "id": "tJ7sFdGoCo0N",
        "colab_type": "text"
      },
      "source": [
        "# Contiguous\n",
        "\n",
        "가장 오른쪽 차원이 순차적으로 저장된 텐서"
      ]
    },
    {
      "cell_type": "code",
      "metadata": {
        "id": "gvqjqRcLv5_9",
        "colab_type": "code",
        "colab": {
          "base_uri": "https://localhost:8080/",
          "height": 35
        },
        "outputId": "64c718a2-1a0a-44d5-ce97-5d52d3e71289"
      },
      "source": [
        "some_t.is_contiguous()"
      ],
      "execution_count": 100,
      "outputs": [
        {
          "output_type": "execute_result",
          "data": {
            "text/plain": [
              "True"
            ]
          },
          "metadata": {
            "tags": []
          },
          "execution_count": 100
        }
      ]
    },
    {
      "cell_type": "code",
      "metadata": {
        "id": "y6Mt2o_8v-Fx",
        "colab_type": "code",
        "colab": {
          "base_uri": "https://localhost:8080/",
          "height": 35
        },
        "outputId": "9c4d6abf-6d25-4784-a9cd-c45e93be2abd"
      },
      "source": [
        "transpose_t.is_contiguous()"
      ],
      "execution_count": 101,
      "outputs": [
        {
          "output_type": "execute_result",
          "data": {
            "text/plain": [
              "False"
            ]
          },
          "metadata": {
            "tags": []
          },
          "execution_count": 101
        }
      ]
    },
    {
      "cell_type": "markdown",
      "metadata": {
        "id": "J_v9KcvhwBn3",
        "colab_type": "text"
      },
      "source": [
        "## Contiguous로 변환하기"
      ]
    },
    {
      "cell_type": "code",
      "metadata": {
        "id": "fi-yNKOEEFuv",
        "colab_type": "code",
        "colab": {}
      },
      "source": [
        "points = torch.tensor([[4.0, 1.0], [5.0, 3.0], [2.0, 1.0]])"
      ],
      "execution_count": 108,
      "outputs": []
    },
    {
      "cell_type": "code",
      "metadata": {
        "id": "gWUp1qQUELF8",
        "colab_type": "code",
        "colab": {}
      },
      "source": [
        "points_t = points.t()"
      ],
      "execution_count": 109,
      "outputs": []
    },
    {
      "cell_type": "code",
      "metadata": {
        "id": "bPP0WsVaEOqO",
        "colab_type": "code",
        "colab": {
          "base_uri": "https://localhost:8080/",
          "height": 52
        },
        "outputId": "66a718dd-2ad1-403e-c611-1ad0f34ab5cf"
      },
      "source": [
        "points_t"
      ],
      "execution_count": 110,
      "outputs": [
        {
          "output_type": "execute_result",
          "data": {
            "text/plain": [
              "tensor([[4., 5., 2.],\n",
              "        [1., 3., 1.]])"
            ]
          },
          "metadata": {
            "tags": []
          },
          "execution_count": 110
        }
      ]
    },
    {
      "cell_type": "code",
      "metadata": {
        "id": "FbTr-vXsEOgo",
        "colab_type": "code",
        "colab": {
          "base_uri": "https://localhost:8080/",
          "height": 138
        },
        "outputId": "ac7f9475-8c59-45fb-af64-7489d3b90ec6"
      },
      "source": [
        "points_t.storage()"
      ],
      "execution_count": 111,
      "outputs": [
        {
          "output_type": "execute_result",
          "data": {
            "text/plain": [
              " 4.0\n",
              " 1.0\n",
              " 5.0\n",
              " 3.0\n",
              " 2.0\n",
              " 1.0\n",
              "[torch.FloatStorage of size 6]"
            ]
          },
          "metadata": {
            "tags": []
          },
          "execution_count": 111
        }
      ]
    },
    {
      "cell_type": "code",
      "metadata": {
        "id": "kRds9TyBEOVj",
        "colab_type": "code",
        "colab": {
          "base_uri": "https://localhost:8080/",
          "height": 35
        },
        "outputId": "0fd6ab8f-3788-4045-b614-7ff11e9c3568"
      },
      "source": [
        "points_t.stride()"
      ],
      "execution_count": 112,
      "outputs": [
        {
          "output_type": "execute_result",
          "data": {
            "text/plain": [
              "(1, 2)"
            ]
          },
          "metadata": {
            "tags": []
          },
          "execution_count": 112
        }
      ]
    },
    {
      "cell_type": "code",
      "metadata": {
        "id": "PP7BAMQSEOIp",
        "colab_type": "code",
        "colab": {}
      },
      "source": [
        "points_t_cont = points_t.contiguous()"
      ],
      "execution_count": 113,
      "outputs": []
    },
    {
      "cell_type": "code",
      "metadata": {
        "id": "DwolUv9eEgs3",
        "colab_type": "code",
        "colab": {
          "base_uri": "https://localhost:8080/",
          "height": 52
        },
        "outputId": "0ef00860-72f5-4481-8146-529541178d6a"
      },
      "source": [
        "points_t_cont"
      ],
      "execution_count": 114,
      "outputs": [
        {
          "output_type": "execute_result",
          "data": {
            "text/plain": [
              "tensor([[4., 5., 2.],\n",
              "        [1., 3., 1.]])"
            ]
          },
          "metadata": {
            "tags": []
          },
          "execution_count": 114
        }
      ]
    },
    {
      "cell_type": "code",
      "metadata": {
        "id": "mJdvIpcTEgqq",
        "colab_type": "code",
        "colab": {
          "base_uri": "https://localhost:8080/",
          "height": 35
        },
        "outputId": "dbf6cc0f-a9be-487c-c8f9-8c1137c83d09"
      },
      "source": [
        "points_t_cont.stride()"
      ],
      "execution_count": 115,
      "outputs": [
        {
          "output_type": "execute_result",
          "data": {
            "text/plain": [
              "(3, 1)"
            ]
          },
          "metadata": {
            "tags": []
          },
          "execution_count": 115
        }
      ]
    },
    {
      "cell_type": "code",
      "metadata": {
        "id": "h3hWjpq6EgjA",
        "colab_type": "code",
        "colab": {
          "base_uri": "https://localhost:8080/",
          "height": 138
        },
        "outputId": "8e43101f-5d84-4d25-da3e-db3a77e92cc6"
      },
      "source": [
        "points_t_cont.storage()"
      ],
      "execution_count": 116,
      "outputs": [
        {
          "output_type": "execute_result",
          "data": {
            "text/plain": [
              " 4.0\n",
              " 5.0\n",
              " 2.0\n",
              " 1.0\n",
              " 3.0\n",
              " 1.0\n",
              "[torch.FloatStorage of size 6]"
            ]
          },
          "metadata": {
            "tags": []
          },
          "execution_count": 116
        }
      ]
    },
    {
      "cell_type": "code",
      "metadata": {
        "id": "5QaBSQD83EMD",
        "colab_type": "code",
        "colab": {}
      },
      "source": [
        ""
      ],
      "execution_count": null,
      "outputs": []
    },
    {
      "cell_type": "markdown",
      "metadata": {
        "id": "9ckbojEe8GoO",
        "colab_type": "text"
      },
      "source": [
        "## tensor view()\n",
        "\n",
        "같은 storage 에서 보는 관점 (shape)만 다르게 함"
      ]
    },
    {
      "cell_type": "code",
      "metadata": {
        "id": "TQyd096Q661s",
        "colab_type": "code",
        "colab": {
          "base_uri": "https://localhost:8080/",
          "height": 121
        },
        "outputId": "5447a994-e015-4919-93fa-a016dca8176e"
      },
      "source": [
        "t = torch.rand(4, 4)\n",
        "b = t.view(2, 8)\n",
        "print(t, t.shape)\n",
        "print(b, b.shape)"
      ],
      "execution_count": 124,
      "outputs": [
        {
          "output_type": "stream",
          "text": [
            "tensor([[0.2186, 0.3878, 0.2338, 0.3695],\n",
            "        [0.8055, 0.0071, 0.1975, 0.3930],\n",
            "        [0.2079, 0.6703, 0.9268, 0.6448],\n",
            "        [0.0171, 0.0831, 0.4419, 0.9077]]) torch.Size([4, 4])\n",
            "tensor([[0.2186, 0.3878, 0.2338, 0.3695, 0.8055, 0.0071, 0.1975, 0.3930],\n",
            "        [0.2079, 0.6703, 0.9268, 0.6448, 0.0171, 0.0831, 0.4419, 0.9077]]) torch.Size([2, 8])\n"
          ],
          "name": "stdout"
        }
      ]
    },
    {
      "cell_type": "code",
      "metadata": {
        "id": "3hmjbh_oG7vm",
        "colab_type": "code",
        "colab": {
          "base_uri": "https://localhost:8080/",
          "height": 35
        },
        "outputId": "2454faeb-d06f-4587-b15e-d5b4d7140232"
      },
      "source": [
        "print(t.stride(), b.stride())"
      ],
      "execution_count": 125,
      "outputs": [
        {
          "output_type": "stream",
          "text": [
            "(4, 1) (8, 1)\n"
          ],
          "name": "stdout"
        }
      ]
    },
    {
      "cell_type": "code",
      "metadata": {
        "id": "DRaO6Dmf66zN",
        "colab_type": "code",
        "colab": {
          "base_uri": "https://localhost:8080/",
          "height": 35
        },
        "outputId": "402ba321-fef1-445c-ff5c-2f0b3032f771"
      },
      "source": [
        "t.is_contiguous()"
      ],
      "execution_count": 126,
      "outputs": [
        {
          "output_type": "execute_result",
          "data": {
            "text/plain": [
              "True"
            ]
          },
          "metadata": {
            "tags": []
          },
          "execution_count": 126
        }
      ]
    },
    {
      "cell_type": "code",
      "metadata": {
        "id": "f2L2fmny66wm",
        "colab_type": "code",
        "colab": {
          "base_uri": "https://localhost:8080/",
          "height": 35
        },
        "outputId": "5c8d84a8-0e23-4d88-9241-b7facd30ddbc"
      },
      "source": [
        "b.is_contiguous()"
      ],
      "execution_count": 127,
      "outputs": [
        {
          "output_type": "execute_result",
          "data": {
            "text/plain": [
              "True"
            ]
          },
          "metadata": {
            "tags": []
          },
          "execution_count": 127
        }
      ]
    },
    {
      "cell_type": "code",
      "metadata": {
        "id": "9nntUn58HIMv",
        "colab_type": "code",
        "colab": {
          "base_uri": "https://localhost:8080/",
          "height": 622
        },
        "outputId": "a9915c0e-554b-4a0b-d329-035f1a794ad6"
      },
      "source": [
        "print(t.storage())\n",
        "print('------------------')\n",
        "print(b.storage())"
      ],
      "execution_count": 131,
      "outputs": [
        {
          "output_type": "stream",
          "text": [
            " 0.21861666440963745\n",
            " 0.38779711723327637\n",
            " 0.23383945226669312\n",
            " 0.36954402923583984\n",
            " 0.8054532408714294\n",
            " 0.007084488868713379\n",
            " 0.19748222827911377\n",
            " 0.3930157423019409\n",
            " 0.2078811526298523\n",
            " 0.6703256964683533\n",
            " 0.9267706274986267\n",
            " 0.644775390625\n",
            " 0.017052173614501953\n",
            " 0.08314478397369385\n",
            " 0.44186484813690186\n",
            " 0.9077044129371643\n",
            "[torch.FloatStorage of size 16]\n",
            "------------------\n",
            " 0.21861666440963745\n",
            " 0.38779711723327637\n",
            " 0.23383945226669312\n",
            " 0.36954402923583984\n",
            " 0.8054532408714294\n",
            " 0.007084488868713379\n",
            " 0.19748222827911377\n",
            " 0.3930157423019409\n",
            " 0.2078811526298523\n",
            " 0.6703256964683533\n",
            " 0.9267706274986267\n",
            " 0.644775390625\n",
            " 0.017052173614501953\n",
            " 0.08314478397369385\n",
            " 0.44186484813690186\n",
            " 0.9077044129371643\n",
            "[torch.FloatStorage of size 16]\n"
          ],
          "name": "stdout"
        }
      ]
    },
    {
      "cell_type": "markdown",
      "metadata": {
        "id": "dRTgmMLP1Yw-",
        "colab_type": "text"
      },
      "source": [
        "## view 같은 operation은 contiguous tensor에서만 동작"
      ]
    },
    {
      "cell_type": "code",
      "metadata": {
        "id": "qVG0KL8gDQfk",
        "colab_type": "code",
        "colab": {
          "base_uri": "https://localhost:8080/",
          "height": 52
        },
        "outputId": "670deabb-c89f-4814-b505-eb4d2bbd83df"
      },
      "source": [
        "x = torch.tensor([[1,2,3], [4,5,6]])\n",
        "x"
      ],
      "execution_count": 136,
      "outputs": [
        {
          "output_type": "execute_result",
          "data": {
            "text/plain": [
              "tensor([[1, 2, 3],\n",
              "        [4, 5, 6]])"
            ]
          },
          "metadata": {
            "tags": []
          },
          "execution_count": 136
        }
      ]
    },
    {
      "cell_type": "code",
      "metadata": {
        "id": "Xx89aWShDcCn",
        "colab_type": "code",
        "colab": {
          "base_uri": "https://localhost:8080/",
          "height": 35
        },
        "outputId": "3994f78a-85db-4992-e903-4c1590ee9e12"
      },
      "source": [
        "x.shape"
      ],
      "execution_count": 133,
      "outputs": [
        {
          "output_type": "execute_result",
          "data": {
            "text/plain": [
              "torch.Size([2, 3])"
            ]
          },
          "metadata": {
            "tags": []
          },
          "execution_count": 133
        }
      ]
    },
    {
      "cell_type": "code",
      "metadata": {
        "id": "u30FE9OeDcAh",
        "colab_type": "code",
        "colab": {
          "base_uri": "https://localhost:8080/",
          "height": 69
        },
        "outputId": "54a281fd-2972-4d5b-aafb-eb2167186749"
      },
      "source": [
        "x_t = x.t()\n",
        "x_t"
      ],
      "execution_count": 134,
      "outputs": [
        {
          "output_type": "execute_result",
          "data": {
            "text/plain": [
              "tensor([[1, 4],\n",
              "        [2, 5],\n",
              "        [3, 6]])"
            ]
          },
          "metadata": {
            "tags": []
          },
          "execution_count": 134
        }
      ]
    },
    {
      "cell_type": "code",
      "metadata": {
        "id": "hRxxELDcDb-S",
        "colab_type": "code",
        "colab": {
          "base_uri": "https://localhost:8080/",
          "height": 69
        },
        "outputId": "e7565ee6-c195-4436-99fa-817fd47d7f7e"
      },
      "source": [
        "y = x.view(3,2) # transpose가 아님\n",
        "y"
      ],
      "execution_count": 135,
      "outputs": [
        {
          "output_type": "execute_result",
          "data": {
            "text/plain": [
              "tensor([[1, 2],\n",
              "        [3, 4],\n",
              "        [5, 6]])"
            ]
          },
          "metadata": {
            "tags": []
          },
          "execution_count": 135
        }
      ]
    },
    {
      "cell_type": "code",
      "metadata": {
        "id": "TP3COx6sDb7U",
        "colab_type": "code",
        "colab": {
          "base_uri": "https://localhost:8080/",
          "height": 35
        },
        "outputId": "1278c9db-9c95-4bc0-a3d4-381d90c160dd"
      },
      "source": [
        "y.is_contiguous()"
      ],
      "execution_count": 137,
      "outputs": [
        {
          "output_type": "execute_result",
          "data": {
            "text/plain": [
              "True"
            ]
          },
          "metadata": {
            "tags": []
          },
          "execution_count": 137
        }
      ]
    },
    {
      "cell_type": "code",
      "metadata": {
        "id": "99UFRC-6D956",
        "colab_type": "code",
        "colab": {
          "base_uri": "https://localhost:8080/",
          "height": 35
        },
        "outputId": "a1472093-256a-45f6-a4a4-8b3e616d5316"
      },
      "source": [
        "x_t.is_contiguous()"
      ],
      "execution_count": 138,
      "outputs": [
        {
          "output_type": "execute_result",
          "data": {
            "text/plain": [
              "False"
            ]
          },
          "metadata": {
            "tags": []
          },
          "execution_count": 138
        }
      ]
    },
    {
      "cell_type": "code",
      "metadata": {
        "id": "lRWGogIRDb3R",
        "colab_type": "code",
        "colab": {
          "base_uri": "https://localhost:8080/",
          "height": 168
        },
        "outputId": "5667e5c0-17bb-48af-dfd0-b1a25c3b1686"
      },
      "source": [
        "# x_t.view(2, 3) # error"
      ],
      "execution_count": 139,
      "outputs": [
        {
          "output_type": "error",
          "ename": "RuntimeError",
          "evalue": "ignored",
          "traceback": [
            "\u001b[0;31m---------------------------------------------------------------------------\u001b[0m",
            "\u001b[0;31mRuntimeError\u001b[0m                              Traceback (most recent call last)",
            "\u001b[0;32m<ipython-input-139-914fd872abe5>\u001b[0m in \u001b[0;36m<module>\u001b[0;34m()\u001b[0m\n\u001b[0;32m----> 1\u001b[0;31m \u001b[0mx_t\u001b[0m\u001b[0;34m.\u001b[0m\u001b[0mview\u001b[0m\u001b[0;34m(\u001b[0m\u001b[0;36m2\u001b[0m\u001b[0;34m,\u001b[0m \u001b[0;36m3\u001b[0m\u001b[0;34m)\u001b[0m \u001b[0;31m# error\u001b[0m\u001b[0;34m\u001b[0m\u001b[0;34m\u001b[0m\u001b[0m\n\u001b[0m",
            "\u001b[0;31mRuntimeError\u001b[0m: view size is not compatible with input tensor's size and stride (at least one dimension spans across two contiguous subspaces). Use .reshape(...) instead."
          ]
        }
      ]
    },
    {
      "cell_type": "code",
      "metadata": {
        "id": "iFy-RCktEDHS",
        "colab_type": "code",
        "colab": {
          "base_uri": "https://localhost:8080/",
          "height": 69
        },
        "outputId": "c0144d2c-a272-4ac4-9c15-72af0e9748bc"
      },
      "source": [
        "x_t_cont = x_t.contiguous()\n",
        "x_t_cont"
      ],
      "execution_count": 143,
      "outputs": [
        {
          "output_type": "execute_result",
          "data": {
            "text/plain": [
              "tensor([[1, 4],\n",
              "        [2, 5],\n",
              "        [3, 6]])"
            ]
          },
          "metadata": {
            "tags": []
          },
          "execution_count": 143
        }
      ]
    },
    {
      "cell_type": "code",
      "metadata": {
        "id": "lkpz0Q95EGyB",
        "colab_type": "code",
        "colab": {
          "base_uri": "https://localhost:8080/",
          "height": 52
        },
        "outputId": "baac7333-32d9-4865-f2ac-a8f710be4139"
      },
      "source": [
        "x_t_cont.view(2, 3)"
      ],
      "execution_count": 144,
      "outputs": [
        {
          "output_type": "execute_result",
          "data": {
            "text/plain": [
              "tensor([[1, 4, 2],\n",
              "        [5, 3, 6]])"
            ]
          },
          "metadata": {
            "tags": []
          },
          "execution_count": 144
        }
      ]
    },
    {
      "cell_type": "code",
      "metadata": {
        "id": "D1H-Y-cyEXFs",
        "colab_type": "code",
        "colab": {
          "base_uri": "https://localhost:8080/",
          "height": 69
        },
        "outputId": "621833aa-ee41-4895-d705-5a632f4632b1"
      },
      "source": [
        "x_t"
      ],
      "execution_count": 145,
      "outputs": [
        {
          "output_type": "execute_result",
          "data": {
            "text/plain": [
              "tensor([[1, 4],\n",
              "        [2, 5],\n",
              "        [3, 6]])"
            ]
          },
          "metadata": {
            "tags": []
          },
          "execution_count": 145
        }
      ]
    },
    {
      "cell_type": "code",
      "metadata": {
        "id": "4kyjDHqj1XE6",
        "colab_type": "code",
        "colab": {
          "base_uri": "https://localhost:8080/",
          "height": 52
        },
        "outputId": "4913f2be-1ede-4e6c-d9a6-8021954ba5de"
      },
      "source": [
        "x = torch.randn(2,3,4)\n",
        "x_t = x.transpose(0, 2)\n",
        "print(x.shape)\n",
        "print(x_t.shape)\n"
      ],
      "execution_count": 146,
      "outputs": [
        {
          "output_type": "stream",
          "text": [
            "torch.Size([2, 3, 4])\n",
            "torch.Size([4, 3, 2])\n"
          ],
          "name": "stdout"
        }
      ]
    },
    {
      "cell_type": "code",
      "metadata": {
        "id": "njuxOG5GDJJO",
        "colab_type": "code",
        "colab": {
          "base_uri": "https://localhost:8080/",
          "height": 138
        },
        "outputId": "4fdda993-de87-429d-cdaf-b14380487155"
      },
      "source": [
        "x"
      ],
      "execution_count": 147,
      "outputs": [
        {
          "output_type": "execute_result",
          "data": {
            "text/plain": [
              "tensor([[[ 1.2233, -0.7113,  0.6238, -1.6227],\n",
              "         [-1.8547, -0.2439, -0.3427,  1.1804],\n",
              "         [-0.3687,  0.6420, -0.0362,  0.3887]],\n",
              "\n",
              "        [[-1.4247, -0.0020, -1.1433, -0.2288],\n",
              "         [-0.6830, -1.4532,  0.4469, -0.4412],\n",
              "         [ 0.5310,  0.5736, -1.3420, -1.0743]]])"
            ]
          },
          "metadata": {
            "tags": []
          },
          "execution_count": 147
        }
      ]
    },
    {
      "cell_type": "code",
      "metadata": {
        "id": "YXTg7MDLDGJe",
        "colab_type": "code",
        "colab": {
          "base_uri": "https://localhost:8080/",
          "height": 86
        },
        "outputId": "0e369d30-437a-47a5-e5f7-b4d3e081688a"
      },
      "source": [
        "x.view(2, 12)"
      ],
      "execution_count": 148,
      "outputs": [
        {
          "output_type": "execute_result",
          "data": {
            "text/plain": [
              "tensor([[ 1.2233, -0.7113,  0.6238, -1.6227, -1.8547, -0.2439, -0.3427,  1.1804,\n",
              "         -0.3687,  0.6420, -0.0362,  0.3887],\n",
              "        [-1.4247, -0.0020, -1.1433, -0.2288, -0.6830, -1.4532,  0.4469, -0.4412,\n",
              "          0.5310,  0.5736, -1.3420, -1.0743]])"
            ]
          },
          "metadata": {
            "tags": []
          },
          "execution_count": 148
        }
      ]
    },
    {
      "cell_type": "code",
      "metadata": {
        "id": "sg6dlz0LCqy9",
        "colab_type": "code",
        "colab": {
          "base_uri": "https://localhost:8080/",
          "height": 167
        },
        "outputId": "062d79a7-f852-473e-f6a9-5b223f5131e8"
      },
      "source": [
        "# x_t.view(4,6) # Error"
      ],
      "execution_count": null,
      "outputs": [
        {
          "output_type": "error",
          "ename": "RuntimeError",
          "evalue": "ignored",
          "traceback": [
            "\u001b[0;31m---------------------------------------------------------------------------\u001b[0m",
            "\u001b[0;31mRuntimeError\u001b[0m                              Traceback (most recent call last)",
            "\u001b[0;32m<ipython-input-173-e6baf761658b>\u001b[0m in \u001b[0;36m<module>\u001b[0;34m()\u001b[0m\n\u001b[0;32m----> 1\u001b[0;31m \u001b[0mx_t\u001b[0m\u001b[0;34m.\u001b[0m\u001b[0mview\u001b[0m\u001b[0;34m(\u001b[0m\u001b[0;36m4\u001b[0m\u001b[0;34m,\u001b[0m\u001b[0;36m6\u001b[0m\u001b[0;34m)\u001b[0m \u001b[0;31m# Error\u001b[0m\u001b[0;34m\u001b[0m\u001b[0;34m\u001b[0m\u001b[0m\n\u001b[0m",
            "\u001b[0;31mRuntimeError\u001b[0m: view size is not compatible with input tensor's size and stride (at least one dimension spans across two contiguous subspaces). Use .reshape(...) instead."
          ]
        }
      ]
    },
    {
      "cell_type": "markdown",
      "metadata": {
        "id": "RaWqCIqaCU-j",
        "colab_type": "text"
      },
      "source": [
        "## slicing"
      ]
    },
    {
      "cell_type": "code",
      "metadata": {
        "id": "s83-vJzb66s3",
        "colab_type": "code",
        "colab": {}
      },
      "source": [
        "x = torch.tensor([[[1, 2, 3, 4, 5], [6,7,8,9,10], [11,12,13,14,15]], [[16, 17, 18, 19, 20], [21,22,23,24,25], [26,27,28,29,30]]])"
      ],
      "execution_count": 3,
      "outputs": []
    },
    {
      "cell_type": "code",
      "metadata": {
        "id": "AJd3igb191zc",
        "colab_type": "code",
        "colab": {
          "base_uri": "https://localhost:8080/",
          "height": 691
        },
        "outputId": "d41926aa-209f-4100-9290-f1b78e10827f"
      },
      "source": [
        "print(x.shape)\n",
        "print(x.storage())\n",
        "x"
      ],
      "execution_count": 150,
      "outputs": [
        {
          "output_type": "stream",
          "text": [
            "torch.Size([2, 3, 5])\n",
            " 1\n",
            " 2\n",
            " 3\n",
            " 4\n",
            " 5\n",
            " 6\n",
            " 7\n",
            " 8\n",
            " 9\n",
            " 10\n",
            " 11\n",
            " 12\n",
            " 13\n",
            " 14\n",
            " 15\n",
            " 16\n",
            " 17\n",
            " 18\n",
            " 19\n",
            " 20\n",
            " 21\n",
            " 22\n",
            " 23\n",
            " 24\n",
            " 25\n",
            " 26\n",
            " 27\n",
            " 28\n",
            " 29\n",
            " 30\n",
            "[torch.LongStorage of size 30]\n"
          ],
          "name": "stdout"
        },
        {
          "output_type": "execute_result",
          "data": {
            "text/plain": [
              "tensor([[[ 1,  2,  3,  4,  5],\n",
              "         [ 6,  7,  8,  9, 10],\n",
              "         [11, 12, 13, 14, 15]],\n",
              "\n",
              "        [[16, 17, 18, 19, 20],\n",
              "         [21, 22, 23, 24, 25],\n",
              "         [26, 27, 28, 29, 30]]])"
            ]
          },
          "metadata": {
            "tags": []
          },
          "execution_count": 150
        }
      ]
    },
    {
      "cell_type": "code",
      "metadata": {
        "id": "ieKxrT1-_l6d",
        "colab_type": "code",
        "colab": {
          "base_uri": "https://localhost:8080/",
          "height": 69
        },
        "outputId": "468c946e-3978-4bdd-d74d-af6ebbfd7de6"
      },
      "source": [
        "x[1:]"
      ],
      "execution_count": 151,
      "outputs": [
        {
          "output_type": "execute_result",
          "data": {
            "text/plain": [
              "tensor([[[16, 17, 18, 19, 20],\n",
              "         [21, 22, 23, 24, 25],\n",
              "         [26, 27, 28, 29, 30]]])"
            ]
          },
          "metadata": {
            "tags": []
          },
          "execution_count": 151
        }
      ]
    },
    {
      "cell_type": "code",
      "metadata": {
        "id": "c2sr8unK_q5p",
        "colab_type": "code",
        "colab": {
          "base_uri": "https://localhost:8080/",
          "height": 69
        },
        "outputId": "b2ea73de-aec9-45c3-e665-3d7ecfcd72bc"
      },
      "source": [
        "x[0]"
      ],
      "execution_count": 152,
      "outputs": [
        {
          "output_type": "execute_result",
          "data": {
            "text/plain": [
              "tensor([[ 1,  2,  3,  4,  5],\n",
              "        [ 6,  7,  8,  9, 10],\n",
              "        [11, 12, 13, 14, 15]])"
            ]
          },
          "metadata": {
            "tags": []
          },
          "execution_count": 152
        }
      ]
    },
    {
      "cell_type": "code",
      "metadata": {
        "id": "rUhzTI-x_uI0",
        "colab_type": "code",
        "colab": {
          "base_uri": "https://localhost:8080/",
          "height": 52
        },
        "outputId": "bba5c0f5-2955-4163-d9e3-2d044e3b1f96"
      },
      "source": [
        "x[0, 1:]"
      ],
      "execution_count": 153,
      "outputs": [
        {
          "output_type": "execute_result",
          "data": {
            "text/plain": [
              "tensor([[ 6,  7,  8,  9, 10],\n",
              "        [11, 12, 13, 14, 15]])"
            ]
          },
          "metadata": {
            "tags": []
          },
          "execution_count": 153
        }
      ]
    },
    {
      "cell_type": "code",
      "metadata": {
        "id": "2PZtGI-M_ywO",
        "colab_type": "code",
        "colab": {
          "base_uri": "https://localhost:8080/",
          "height": 52
        },
        "outputId": "962fa2a3-d115-4a70-8fac-7a18487e6724"
      },
      "source": [
        "x[0, 1:, 0:4]"
      ],
      "execution_count": 154,
      "outputs": [
        {
          "output_type": "execute_result",
          "data": {
            "text/plain": [
              "tensor([[ 6,  7,  8,  9],\n",
              "        [11, 12, 13, 14]])"
            ]
          },
          "metadata": {
            "tags": []
          },
          "execution_count": 154
        }
      ]
    },
    {
      "cell_type": "code",
      "metadata": {
        "id": "UQF8-Qyz_-68",
        "colab_type": "code",
        "colab": {
          "base_uri": "https://localhost:8080/",
          "height": 52
        },
        "outputId": "f004b7df-5733-43ac-971a-470110fa10e6"
      },
      "source": [
        "x[0, 1:, 1:3]"
      ],
      "execution_count": 155,
      "outputs": [
        {
          "output_type": "execute_result",
          "data": {
            "text/plain": [
              "tensor([[ 7,  8],\n",
              "        [12, 13]])"
            ]
          },
          "metadata": {
            "tags": []
          },
          "execution_count": 155
        }
      ]
    },
    {
      "cell_type": "code",
      "metadata": {
        "id": "gzKlA7IYALg3",
        "colab_type": "code",
        "colab": {}
      },
      "source": [
        ""
      ],
      "execution_count": null,
      "outputs": []
    },
    {
      "cell_type": "code",
      "metadata": {
        "id": "46Fgs3wb91xi",
        "colab_type": "code",
        "colab": {
          "base_uri": "https://localhost:8080/",
          "height": 52
        },
        "outputId": "fc2b8715-81c5-4672-c018-2a703c65431b"
      },
      "source": [
        "x[0, 1:, 0:3:2]"
      ],
      "execution_count": 156,
      "outputs": [
        {
          "output_type": "execute_result",
          "data": {
            "text/plain": [
              "tensor([[ 6,  8],\n",
              "        [11, 13]])"
            ]
          },
          "metadata": {
            "tags": []
          },
          "execution_count": 156
        }
      ]
    },
    {
      "cell_type": "code",
      "metadata": {
        "id": "MFX2i-X491tc",
        "colab_type": "code",
        "colab": {
          "base_uri": "https://localhost:8080/",
          "height": 52
        },
        "outputId": "edc96065-6282-4fe9-cbb9-6dfc8edab479"
      },
      "source": [
        "x[0, 1:, 1:3:2]"
      ],
      "execution_count": 157,
      "outputs": [
        {
          "output_type": "execute_result",
          "data": {
            "text/plain": [
              "tensor([[ 7],\n",
              "        [12]])"
            ]
          },
          "metadata": {
            "tags": []
          },
          "execution_count": 157
        }
      ]
    },
    {
      "cell_type": "code",
      "metadata": {
        "id": "5RDcFiLn91qY",
        "colab_type": "code",
        "colab": {
          "base_uri": "https://localhost:8080/",
          "height": 138
        },
        "outputId": "19db6ada-9d11-47d8-e38b-f5e176a4d661"
      },
      "source": [
        "x"
      ],
      "execution_count": 158,
      "outputs": [
        {
          "output_type": "execute_result",
          "data": {
            "text/plain": [
              "tensor([[[ 1,  2,  3,  4,  5],\n",
              "         [ 6,  7,  8,  9, 10],\n",
              "         [11, 12, 13, 14, 15]],\n",
              "\n",
              "        [[16, 17, 18, 19, 20],\n",
              "         [21, 22, 23, 24, 25],\n",
              "         [26, 27, 28, 29, 30]]])"
            ]
          },
          "metadata": {
            "tags": []
          },
          "execution_count": 158
        }
      ]
    },
    {
      "cell_type": "code",
      "metadata": {
        "id": "x93SSn9-91lV",
        "colab_type": "code",
        "colab": {
          "base_uri": "https://localhost:8080/",
          "height": 259
        },
        "outputId": "11e47dd0-c31c-4457-ec51-03ba972bfe40"
      },
      "source": [
        "y = torch.rand(3,4,5)\n",
        "y"
      ],
      "execution_count": 159,
      "outputs": [
        {
          "output_type": "execute_result",
          "data": {
            "text/plain": [
              "tensor([[[0.3761, 0.7538, 0.8425, 0.4088, 0.5789],\n",
              "         [0.3466, 0.1129, 0.5182, 0.8586, 0.0832],\n",
              "         [0.0205, 0.3271, 0.8146, 0.6796, 0.0812],\n",
              "         [0.9901, 0.6523, 0.1598, 0.3822, 0.5773]],\n",
              "\n",
              "        [[0.0296, 0.4886, 0.1073, 0.6267, 0.9024],\n",
              "         [0.4118, 0.2284, 0.2984, 0.6761, 0.6500],\n",
              "         [0.1761, 0.5419, 0.2516, 0.0395, 0.6175],\n",
              "         [0.6309, 0.2511, 0.0536, 0.1153, 0.3009]],\n",
              "\n",
              "        [[0.8316, 0.1818, 0.3634, 0.7148, 0.8096],\n",
              "         [0.7412, 0.4476, 0.3727, 0.8049, 0.9054],\n",
              "         [0.7750, 0.3089, 0.7294, 0.8671, 0.1742],\n",
              "         [0.8533, 0.0967, 0.2887, 0.8885, 0.1471]]])"
            ]
          },
          "metadata": {
            "tags": []
          },
          "execution_count": 159
        }
      ]
    },
    {
      "cell_type": "code",
      "metadata": {
        "id": "MtNEHOiQ66qP",
        "colab_type": "code",
        "colab": {
          "base_uri": "https://localhost:8080/",
          "height": 52
        },
        "outputId": "f008bff2-e751-4857-bf25-15f68a5d372a"
      },
      "source": [
        "z = y[0, 2:, 1:7:2]\n",
        "z"
      ],
      "execution_count": 160,
      "outputs": [
        {
          "output_type": "execute_result",
          "data": {
            "text/plain": [
              "tensor([[0.3271, 0.6796],\n",
              "        [0.6523, 0.3822]])"
            ]
          },
          "metadata": {
            "tags": []
          },
          "execution_count": 160
        }
      ]
    },
    {
      "cell_type": "code",
      "metadata": {
        "id": "rW1LKgkRA79r",
        "colab_type": "code",
        "colab": {
          "base_uri": "https://localhost:8080/",
          "height": 35
        },
        "outputId": "42204e7b-23e4-43f4-8485-dfb770ec01dc"
      },
      "source": [
        "y.is_contiguous()"
      ],
      "execution_count": 161,
      "outputs": [
        {
          "output_type": "execute_result",
          "data": {
            "text/plain": [
              "True"
            ]
          },
          "metadata": {
            "tags": []
          },
          "execution_count": 161
        }
      ]
    },
    {
      "cell_type": "code",
      "metadata": {
        "id": "HbgHj_4FA-1c",
        "colab_type": "code",
        "colab": {
          "base_uri": "https://localhost:8080/",
          "height": 35
        },
        "outputId": "a7cdd1e4-a355-4538-b06c-772b54ecc63a"
      },
      "source": [
        "z.is_contiguous()"
      ],
      "execution_count": 162,
      "outputs": [
        {
          "output_type": "execute_result",
          "data": {
            "text/plain": [
              "False"
            ]
          },
          "metadata": {
            "tags": []
          },
          "execution_count": 162
        }
      ]
    },
    {
      "cell_type": "code",
      "metadata": {
        "id": "fmhQMbqNBCak",
        "colab_type": "code",
        "colab": {
          "base_uri": "https://localhost:8080/",
          "height": 35
        },
        "outputId": "15fd79c4-71df-41f1-d7eb-a6d4c12305cd"
      },
      "source": [
        "z = y[1, 2, :]\n",
        "z"
      ],
      "execution_count": 163,
      "outputs": [
        {
          "output_type": "execute_result",
          "data": {
            "text/plain": [
              "tensor([0.1761, 0.5419, 0.2516, 0.0395, 0.6175])"
            ]
          },
          "metadata": {
            "tags": []
          },
          "execution_count": 163
        }
      ]
    },
    {
      "cell_type": "code",
      "metadata": {
        "id": "alDRkck3BOwG",
        "colab_type": "code",
        "colab": {
          "base_uri": "https://localhost:8080/",
          "height": 35
        },
        "outputId": "1d9a1cd9-5c56-431c-c7b8-a15181230642"
      },
      "source": [
        "z.is_contiguous()"
      ],
      "execution_count": 164,
      "outputs": [
        {
          "output_type": "execute_result",
          "data": {
            "text/plain": [
              "True"
            ]
          },
          "metadata": {
            "tags": []
          },
          "execution_count": 164
        }
      ]
    },
    {
      "cell_type": "code",
      "metadata": {
        "id": "-1307kv-BR9j",
        "colab_type": "code",
        "colab": {
          "base_uri": "https://localhost:8080/",
          "height": 86
        },
        "outputId": "3a775a86-2189-47ba-ce50-f62fe3a691d8"
      },
      "source": [
        "z = y[0, 2, 1:3]\n",
        "print(z)\n",
        "print(z.stride())\n",
        "print(z.size())\n",
        "print(z.is_contiguous())"
      ],
      "execution_count": 169,
      "outputs": [
        {
          "output_type": "stream",
          "text": [
            "tensor([0.3271, 0.8146])\n",
            "(1,)\n",
            "torch.Size([2])\n",
            "True\n"
          ],
          "name": "stdout"
        }
      ]
    },
    {
      "cell_type": "code",
      "metadata": {
        "id": "NK5XXdR0BgpS",
        "colab_type": "code",
        "colab": {
          "base_uri": "https://localhost:8080/",
          "height": 104
        },
        "outputId": "1ec62c50-0527-480f-f83c-dd824163b766"
      },
      "source": [
        "z = y[0, 2:, 1:3]\n",
        "print(z)\n",
        "print(z.stride())\n",
        "print(z.size())\n",
        "print(z.is_contiguous())"
      ],
      "execution_count": 168,
      "outputs": [
        {
          "output_type": "stream",
          "text": [
            "tensor([[0.3271, 0.8146],\n",
            "        [0.6523, 0.1598]])\n",
            "(5, 1)\n",
            "torch.Size([2, 2])\n",
            "False\n"
          ],
          "name": "stdout"
        }
      ]
    },
    {
      "cell_type": "code",
      "metadata": {
        "id": "Aeg-yaoyBljC",
        "colab_type": "code",
        "colab": {}
      },
      "source": [
        ""
      ],
      "execution_count": null,
      "outputs": []
    },
    {
      "cell_type": "markdown",
      "metadata": {
        "id": "sYEFr_wIKj9G",
        "colab_type": "text"
      },
      "source": [
        "##Break\n",
        "\n",
        "---"
      ]
    },
    {
      "cell_type": "markdown",
      "metadata": {
        "id": "JVGKBZbkNSMM",
        "colab_type": "text"
      },
      "source": [
        "## reshape()"
      ]
    },
    {
      "cell_type": "code",
      "metadata": {
        "id": "AV9VIh-IIN-_",
        "colab_type": "code",
        "colab": {
          "base_uri": "https://localhost:8080/",
          "height": 155
        },
        "outputId": "c7938cd5-75c5-4174-f8c4-cb4bcd0865cc"
      },
      "source": [
        "print(x.size())\n",
        "x"
      ],
      "execution_count": 4,
      "outputs": [
        {
          "output_type": "stream",
          "text": [
            "torch.Size([2, 3, 5])\n"
          ],
          "name": "stdout"
        },
        {
          "output_type": "execute_result",
          "data": {
            "text/plain": [
              "tensor([[[ 1,  2,  3,  4,  5],\n",
              "         [ 6,  7,  8,  9, 10],\n",
              "         [11, 12, 13, 14, 15]],\n",
              "\n",
              "        [[16, 17, 18, 19, 20],\n",
              "         [21, 22, 23, 24, 25],\n",
              "         [26, 27, 28, 29, 30]]])"
            ]
          },
          "metadata": {
            "tags": []
          },
          "execution_count": 4
        }
      ]
    },
    {
      "cell_type": "code",
      "metadata": {
        "id": "whMaMpUroYqd",
        "colab_type": "code",
        "colab": {
          "base_uri": "https://localhost:8080/",
          "height": 35
        },
        "outputId": "2e7dcba5-b223-45d4-93eb-98faebb71bfa"
      },
      "source": [
        "print(x.stride())"
      ],
      "execution_count": 10,
      "outputs": [
        {
          "output_type": "stream",
          "text": [
            "(15, 5, 1)\n"
          ],
          "name": "stdout"
        }
      ]
    },
    {
      "cell_type": "code",
      "metadata": {
        "id": "SpgwpF8RIN83",
        "colab_type": "code",
        "colab": {}
      },
      "source": [
        "y = x.reshape((6, 5))"
      ],
      "execution_count": 5,
      "outputs": []
    },
    {
      "cell_type": "code",
      "metadata": {
        "id": "OoP0SjpCIN6q",
        "colab_type": "code",
        "colab": {
          "base_uri": "https://localhost:8080/",
          "height": 138
        },
        "outputId": "0aa22873-0ec5-41f4-b086-5126ea8d508f"
      },
      "source": [
        "print(y.size())\n",
        "y"
      ],
      "execution_count": 6,
      "outputs": [
        {
          "output_type": "stream",
          "text": [
            "torch.Size([6, 5])\n"
          ],
          "name": "stdout"
        },
        {
          "output_type": "execute_result",
          "data": {
            "text/plain": [
              "tensor([[ 1,  2,  3,  4,  5],\n",
              "        [ 6,  7,  8,  9, 10],\n",
              "        [11, 12, 13, 14, 15],\n",
              "        [16, 17, 18, 19, 20],\n",
              "        [21, 22, 23, 24, 25],\n",
              "        [26, 27, 28, 29, 30]])"
            ]
          },
          "metadata": {
            "tags": []
          },
          "execution_count": 6
        }
      ]
    },
    {
      "cell_type": "code",
      "metadata": {
        "id": "gefPps_yIN2z",
        "colab_type": "code",
        "colab": {}
      },
      "source": [
        "z = x.reshape((6, -1)) # -1 은 알아서 맞추라는 의미"
      ],
      "execution_count": 7,
      "outputs": []
    },
    {
      "cell_type": "code",
      "metadata": {
        "id": "gKTV0NSYIN0G",
        "colab_type": "code",
        "colab": {
          "base_uri": "https://localhost:8080/",
          "height": 121
        },
        "outputId": "d6789115-6b5a-4944-e404-2d5ad9a08aad"
      },
      "source": [
        "z"
      ],
      "execution_count": 8,
      "outputs": [
        {
          "output_type": "execute_result",
          "data": {
            "text/plain": [
              "tensor([[ 1,  2,  3,  4,  5],\n",
              "        [ 6,  7,  8,  9, 10],\n",
              "        [11, 12, 13, 14, 15],\n",
              "        [16, 17, 18, 19, 20],\n",
              "        [21, 22, 23, 24, 25],\n",
              "        [26, 27, 28, 29, 30]])"
            ]
          },
          "metadata": {
            "tags": []
          },
          "execution_count": 8
        }
      ]
    },
    {
      "cell_type": "code",
      "metadata": {
        "id": "w2upo2mGMcIG",
        "colab_type": "code",
        "colab": {
          "base_uri": "https://localhost:8080/",
          "height": 35
        },
        "outputId": "39fbb761-e3eb-4746-9bc9-7d2aca58df8f"
      },
      "source": [
        "z.stride()"
      ],
      "execution_count": 9,
      "outputs": [
        {
          "output_type": "execute_result",
          "data": {
            "text/plain": [
              "(5, 1)"
            ]
          },
          "metadata": {
            "tags": []
          },
          "execution_count": 9
        }
      ]
    },
    {
      "cell_type": "code",
      "metadata": {
        "id": "bDDdLZO0INxW",
        "colab_type": "code",
        "colab": {}
      },
      "source": [
        "z = x.reshape((3, -1))"
      ],
      "execution_count": 11,
      "outputs": []
    },
    {
      "cell_type": "code",
      "metadata": {
        "id": "5i6vgDeJINul",
        "colab_type": "code",
        "colab": {
          "base_uri": "https://localhost:8080/",
          "height": 69
        },
        "outputId": "088df88b-9785-4473-86fa-cb01008085e8"
      },
      "source": [
        "z"
      ],
      "execution_count": 12,
      "outputs": [
        {
          "output_type": "execute_result",
          "data": {
            "text/plain": [
              "tensor([[ 1,  2,  3,  4,  5,  6,  7,  8,  9, 10],\n",
              "        [11, 12, 13, 14, 15, 16, 17, 18, 19, 20],\n",
              "        [21, 22, 23, 24, 25, 26, 27, 28, 29, 30]])"
            ]
          },
          "metadata": {
            "tags": []
          },
          "execution_count": 12
        }
      ]
    },
    {
      "cell_type": "code",
      "metadata": {
        "id": "pYx2wl7kMhA-",
        "colab_type": "code",
        "colab": {
          "base_uri": "https://localhost:8080/",
          "height": 35
        },
        "outputId": "04b57e7f-27e7-431d-955a-32f49b713c45"
      },
      "source": [
        "z.stride()"
      ],
      "execution_count": 13,
      "outputs": [
        {
          "output_type": "execute_result",
          "data": {
            "text/plain": [
              "(10, 1)"
            ]
          },
          "metadata": {
            "tags": []
          },
          "execution_count": 13
        }
      ]
    },
    {
      "cell_type": "code",
      "metadata": {
        "id": "zNjkjpSyMDk1",
        "colab_type": "code",
        "colab": {}
      },
      "source": [
        "y = x.reshape((-1, 10))"
      ],
      "execution_count": 14,
      "outputs": []
    },
    {
      "cell_type": "code",
      "metadata": {
        "id": "8baHYCs3MDhV",
        "colab_type": "code",
        "colab": {
          "base_uri": "https://localhost:8080/",
          "height": 69
        },
        "outputId": "5dc9a724-e46a-4471-d686-0348f448a6b0"
      },
      "source": [
        "y"
      ],
      "execution_count": 15,
      "outputs": [
        {
          "output_type": "execute_result",
          "data": {
            "text/plain": [
              "tensor([[ 1,  2,  3,  4,  5,  6,  7,  8,  9, 10],\n",
              "        [11, 12, 13, 14, 15, 16, 17, 18, 19, 20],\n",
              "        [21, 22, 23, 24, 25, 26, 27, 28, 29, 30]])"
            ]
          },
          "metadata": {
            "tags": []
          },
          "execution_count": 15
        }
      ]
    },
    {
      "cell_type": "code",
      "metadata": {
        "id": "7wUYhaR4MDdd",
        "colab_type": "code",
        "colab": {}
      },
      "source": [
        "y = x.reshape((-1, 5))"
      ],
      "execution_count": 16,
      "outputs": []
    },
    {
      "cell_type": "code",
      "metadata": {
        "id": "1fLmqr_DMDbA",
        "colab_type": "code",
        "colab": {
          "base_uri": "https://localhost:8080/",
          "height": 121
        },
        "outputId": "2f441752-268f-46eb-a6ea-d291a3714e85"
      },
      "source": [
        "y"
      ],
      "execution_count": 17,
      "outputs": [
        {
          "output_type": "execute_result",
          "data": {
            "text/plain": [
              "tensor([[ 1,  2,  3,  4,  5],\n",
              "        [ 6,  7,  8,  9, 10],\n",
              "        [11, 12, 13, 14, 15],\n",
              "        [16, 17, 18, 19, 20],\n",
              "        [21, 22, 23, 24, 25],\n",
              "        [26, 27, 28, 29, 30]])"
            ]
          },
          "metadata": {
            "tags": []
          },
          "execution_count": 17
        }
      ]
    },
    {
      "cell_type": "code",
      "metadata": {
        "id": "KVIfZDzOMDXl",
        "colab_type": "code",
        "colab": {
          "base_uri": "https://localhost:8080/",
          "height": 34
        },
        "outputId": "143295a2-aaa0-40cf-a097-11c386f5edd0"
      },
      "source": [
        "y.is_contiguous()"
      ],
      "execution_count": null,
      "outputs": [
        {
          "output_type": "execute_result",
          "data": {
            "text/plain": [
              "True"
            ]
          },
          "metadata": {
            "tags": []
          },
          "execution_count": 216
        }
      ]
    },
    {
      "cell_type": "code",
      "metadata": {
        "id": "Z14DvgLhMDVX",
        "colab_type": "code",
        "colab": {
          "base_uri": "https://localhost:8080/",
          "height": 35
        },
        "outputId": "086ff1aa-79ff-48ca-cc89-4ca75fcd918a"
      },
      "source": [
        "y.stride()"
      ],
      "execution_count": 18,
      "outputs": [
        {
          "output_type": "execute_result",
          "data": {
            "text/plain": [
              "(5, 1)"
            ]
          },
          "metadata": {
            "tags": []
          },
          "execution_count": 18
        }
      ]
    },
    {
      "cell_type": "code",
      "metadata": {
        "id": "Vj4orJdpMDSU",
        "colab_type": "code",
        "colab": {
          "base_uri": "https://localhost:8080/",
          "height": 35
        },
        "outputId": "47d28757-676e-4b06-96f5-d21092744516"
      },
      "source": [
        "x.shape"
      ],
      "execution_count": 19,
      "outputs": [
        {
          "output_type": "execute_result",
          "data": {
            "text/plain": [
              "torch.Size([2, 3, 5])"
            ]
          },
          "metadata": {
            "tags": []
          },
          "execution_count": 19
        }
      ]
    },
    {
      "cell_type": "code",
      "metadata": {
        "id": "NrZlNF43MnVT",
        "colab_type": "code",
        "colab": {
          "base_uri": "https://localhost:8080/",
          "height": 168
        },
        "outputId": "5c6df439-a88a-4eea-eb72-10b4b69977d4"
      },
      "source": [
        "# y = x.reshape(7, -1) # error! 전체 크기는 맞아야 함"
      ],
      "execution_count": 20,
      "outputs": [
        {
          "output_type": "error",
          "ename": "RuntimeError",
          "evalue": "ignored",
          "traceback": [
            "\u001b[0;31m---------------------------------------------------------------------------\u001b[0m",
            "\u001b[0;31mRuntimeError\u001b[0m                              Traceback (most recent call last)",
            "\u001b[0;32m<ipython-input-20-5c4900af5967>\u001b[0m in \u001b[0;36m<module>\u001b[0;34m()\u001b[0m\n\u001b[0;32m----> 1\u001b[0;31m \u001b[0my\u001b[0m \u001b[0;34m=\u001b[0m \u001b[0mx\u001b[0m\u001b[0;34m.\u001b[0m\u001b[0mreshape\u001b[0m\u001b[0;34m(\u001b[0m\u001b[0;36m7\u001b[0m\u001b[0;34m,\u001b[0m \u001b[0;34m-\u001b[0m\u001b[0;36m1\u001b[0m\u001b[0;34m)\u001b[0m \u001b[0;31m# error!\u001b[0m\u001b[0;34m\u001b[0m\u001b[0;34m\u001b[0m\u001b[0m\n\u001b[0m",
            "\u001b[0;31mRuntimeError\u001b[0m: shape '[7, -1]' is invalid for input of size 30"
          ]
        }
      ]
    },
    {
      "cell_type": "code",
      "metadata": {
        "id": "aLooGn3_MnR3",
        "colab_type": "code",
        "colab": {
          "base_uri": "https://localhost:8080/",
          "height": 168
        },
        "outputId": "594e2b72-9b3f-429c-d500-4e0b9a4d174a"
      },
      "source": [
        "# y = x.reshape(-1, -1) # error! -1은 한 dim에만 사용 가능"
      ],
      "execution_count": 21,
      "outputs": [
        {
          "output_type": "error",
          "ename": "RuntimeError",
          "evalue": "ignored",
          "traceback": [
            "\u001b[0;31m---------------------------------------------------------------------------\u001b[0m",
            "\u001b[0;31mRuntimeError\u001b[0m                              Traceback (most recent call last)",
            "\u001b[0;32m<ipython-input-21-a762a0969b52>\u001b[0m in \u001b[0;36m<module>\u001b[0;34m()\u001b[0m\n\u001b[0;32m----> 1\u001b[0;31m \u001b[0my\u001b[0m \u001b[0;34m=\u001b[0m \u001b[0mx\u001b[0m\u001b[0;34m.\u001b[0m\u001b[0mreshape\u001b[0m\u001b[0;34m(\u001b[0m\u001b[0;34m-\u001b[0m\u001b[0;36m1\u001b[0m\u001b[0;34m,\u001b[0m \u001b[0;34m-\u001b[0m\u001b[0;36m1\u001b[0m\u001b[0;34m)\u001b[0m \u001b[0;31m# error\u001b[0m\u001b[0;34m\u001b[0m\u001b[0;34m\u001b[0m\u001b[0m\n\u001b[0m",
            "\u001b[0;31mRuntimeError\u001b[0m: only one dimension can be inferred"
          ]
        }
      ]
    },
    {
      "cell_type": "code",
      "metadata": {
        "id": "wL9k5IpqMnO4",
        "colab_type": "code",
        "colab": {}
      },
      "source": [
        "y = x.reshape(1, -1)"
      ],
      "execution_count": 22,
      "outputs": []
    },
    {
      "cell_type": "code",
      "metadata": {
        "id": "MhmEh_p1MnK9",
        "colab_type": "code",
        "colab": {
          "base_uri": "https://localhost:8080/",
          "height": 35
        },
        "outputId": "87fcb277-f41d-484c-be1b-131dad7126be"
      },
      "source": [
        "y.shape"
      ],
      "execution_count": 23,
      "outputs": [
        {
          "output_type": "execute_result",
          "data": {
            "text/plain": [
              "torch.Size([1, 30])"
            ]
          },
          "metadata": {
            "tags": []
          },
          "execution_count": 23
        }
      ]
    },
    {
      "cell_type": "markdown",
      "metadata": {
        "id": "uySSmK3EMnIZ",
        "colab_type": "text"
      },
      "source": [
        "## torch.squeeze()\n",
        "\n",
        "원소 1개짜리 디멘션 제거"
      ]
    },
    {
      "cell_type": "code",
      "metadata": {
        "id": "OyIyi9ytNgDJ",
        "colab_type": "code",
        "colab": {
          "base_uri": "https://localhost:8080/",
          "height": 35
        },
        "outputId": "827f958c-da39-4776-a00c-113f152fe4f4"
      },
      "source": [
        "x = torch.rand(2, 1, 2, 1, 2)\n",
        "x.size()\n"
      ],
      "execution_count": 4,
      "outputs": [
        {
          "output_type": "execute_result",
          "data": {
            "text/plain": [
              "torch.Size([2, 1, 2, 1, 2])"
            ]
          },
          "metadata": {
            "tags": []
          },
          "execution_count": 4
        }
      ]
    },
    {
      "cell_type": "code",
      "metadata": {
        "id": "DfBegzN1qLQn",
        "colab_type": "code",
        "colab": {
          "base_uri": "https://localhost:8080/",
          "height": 173
        },
        "outputId": "76daf6c3-6dc2-43d7-d17a-ef90bb25d312"
      },
      "source": [
        "x"
      ],
      "execution_count": 5,
      "outputs": [
        {
          "output_type": "execute_result",
          "data": {
            "text/plain": [
              "tensor([[[[[0.5851, 0.4012]],\n",
              "\n",
              "          [[0.4378, 0.8631]]]],\n",
              "\n",
              "\n",
              "\n",
              "        [[[[0.4214, 0.2613]],\n",
              "\n",
              "          [[0.2325, 0.7649]]]]])"
            ]
          },
          "metadata": {
            "tags": []
          },
          "execution_count": 5
        }
      ]
    },
    {
      "cell_type": "code",
      "metadata": {
        "id": "d6_zX8sxONLy",
        "colab_type": "code",
        "colab": {
          "base_uri": "https://localhost:8080/",
          "height": 35
        },
        "outputId": "1d52ff47-a065-4ebe-fa45-eb6eebf63529"
      },
      "source": [
        "y = torch.squeeze(x) # 모든 dim 을 squeeze\n",
        "y.size()\n"
      ],
      "execution_count": 6,
      "outputs": [
        {
          "output_type": "execute_result",
          "data": {
            "text/plain": [
              "torch.Size([2, 2, 2])"
            ]
          },
          "metadata": {
            "tags": []
          },
          "execution_count": 6
        }
      ]
    },
    {
      "cell_type": "code",
      "metadata": {
        "id": "qbFM39Urrm5Z",
        "colab_type": "code",
        "colab": {
          "base_uri": "https://localhost:8080/",
          "height": 104
        },
        "outputId": "90613082-ba52-4cc1-c763-ec573044841a"
      },
      "source": [
        "y"
      ],
      "execution_count": 8,
      "outputs": [
        {
          "output_type": "execute_result",
          "data": {
            "text/plain": [
              "tensor([[[0.5851, 0.4012],\n",
              "         [0.4378, 0.8631]],\n",
              "\n",
              "        [[0.4214, 0.2613],\n",
              "         [0.2325, 0.7649]]])"
            ]
          },
          "metadata": {
            "tags": []
          },
          "execution_count": 8
        }
      ]
    },
    {
      "cell_type": "code",
      "metadata": {
        "id": "lWuJg-ZuOcJJ",
        "colab_type": "code",
        "colab": {
          "base_uri": "https://localhost:8080/",
          "height": 35
        },
        "outputId": "8eaf1129-ad13-480a-e536-cf55b7e0830e"
      },
      "source": [
        "x.size()"
      ],
      "execution_count": 7,
      "outputs": [
        {
          "output_type": "execute_result",
          "data": {
            "text/plain": [
              "torch.Size([2, 1, 2, 1, 2])"
            ]
          },
          "metadata": {
            "tags": []
          },
          "execution_count": 7
        }
      ]
    },
    {
      "cell_type": "code",
      "metadata": {
        "id": "NOKKYEpXORQ3",
        "colab_type": "code",
        "colab": {
          "base_uri": "https://localhost:8080/",
          "height": 35
        },
        "outputId": "42bbf4c3-f31a-409f-e0ec-feaf6db6346d"
      },
      "source": [
        "y = torch.squeeze(x, 0) # dim 0 만 squeeze\n",
        "y.size()\n"
      ],
      "execution_count": 9,
      "outputs": [
        {
          "output_type": "execute_result",
          "data": {
            "text/plain": [
              "torch.Size([2, 1, 2, 1, 2])"
            ]
          },
          "metadata": {
            "tags": []
          },
          "execution_count": 9
        }
      ]
    },
    {
      "cell_type": "code",
      "metadata": {
        "id": "FY3_gousOqYC",
        "colab_type": "code",
        "colab": {
          "base_uri": "https://localhost:8080/",
          "height": 35
        },
        "outputId": "2e1694f1-7518-426d-e49c-510184a5895a"
      },
      "source": [
        "y = torch.squeeze(x, 1)\n",
        "y.size()"
      ],
      "execution_count": 10,
      "outputs": [
        {
          "output_type": "execute_result",
          "data": {
            "text/plain": [
              "torch.Size([2, 2, 1, 2])"
            ]
          },
          "metadata": {
            "tags": []
          },
          "execution_count": 10
        }
      ]
    },
    {
      "cell_type": "code",
      "metadata": {
        "id": "9UZy6r8SPETT",
        "colab_type": "code",
        "colab": {
          "base_uri": "https://localhost:8080/",
          "height": 35
        },
        "outputId": "a115ddfd-6a81-4d1a-ac0a-dad182dceaf7"
      },
      "source": [
        "y = x.squeeze()\n",
        "y.size()"
      ],
      "execution_count": 11,
      "outputs": [
        {
          "output_type": "execute_result",
          "data": {
            "text/plain": [
              "torch.Size([2, 2, 2])"
            ]
          },
          "metadata": {
            "tags": []
          },
          "execution_count": 11
        }
      ]
    },
    {
      "cell_type": "code",
      "metadata": {
        "id": "EVK8nZK9PMNp",
        "colab_type": "code",
        "colab": {
          "base_uri": "https://localhost:8080/",
          "height": 35
        },
        "outputId": "a6f7e82e-3281-4d0a-bb7c-e0aa7cac9781"
      },
      "source": [
        "y = x.squeeze(1) # torch.squeeze(x, 1) 의 다른 형태\n",
        "y.size()"
      ],
      "execution_count": 12,
      "outputs": [
        {
          "output_type": "execute_result",
          "data": {
            "text/plain": [
              "torch.Size([2, 2, 1, 2])"
            ]
          },
          "metadata": {
            "tags": []
          },
          "execution_count": 12
        }
      ]
    },
    {
      "cell_type": "markdown",
      "metadata": {
        "id": "xwXkqz3EPAzn",
        "colab_type": "text"
      },
      "source": [
        "## unsqueeze()\n",
        "\n",
        "원소 1개짜리 디멘션 추가"
      ]
    },
    {
      "cell_type": "code",
      "metadata": {
        "id": "AOGkh3iQNgAC",
        "colab_type": "code",
        "colab": {
          "base_uri": "https://localhost:8080/",
          "height": 69
        },
        "outputId": "d540a4cb-43cf-4e3b-d293-e549cdd9c0c8"
      },
      "source": [
        "x = torch.tensor([1, 2, 3, 4])\n",
        "y = torch.unsqueeze(x, 0)\n",
        "print(x)\n",
        "print(y)\n",
        "print(y.size())"
      ],
      "execution_count": 18,
      "outputs": [
        {
          "output_type": "stream",
          "text": [
            "tensor([1, 2, 3, 4])\n",
            "tensor([[1, 2, 3, 4]])\n",
            "torch.Size([1, 4])\n"
          ],
          "name": "stdout"
        }
      ]
    },
    {
      "cell_type": "code",
      "metadata": {
        "id": "tRfgnbHxTRf5",
        "colab_type": "code",
        "colab": {
          "base_uri": "https://localhost:8080/",
          "height": 121
        },
        "outputId": "b452f1e4-43f8-4002-8f44-e6541b15d450"
      },
      "source": [
        "z = torch.unsqueeze(x, 1)\n",
        "print(x.size())\n",
        "print(z.size())\n",
        "z"
      ],
      "execution_count": 16,
      "outputs": [
        {
          "output_type": "stream",
          "text": [
            "torch.Size([4])\n",
            "torch.Size([4, 1])\n"
          ],
          "name": "stdout"
        },
        {
          "output_type": "execute_result",
          "data": {
            "text/plain": [
              "tensor([[1],\n",
              "        [2],\n",
              "        [3],\n",
              "        [4]])"
            ]
          },
          "metadata": {
            "tags": []
          },
          "execution_count": 16
        }
      ]
    },
    {
      "cell_type": "markdown",
      "metadata": {
        "id": "5HJt630HWZq-",
        "colab_type": "text"
      },
      "source": [
        "## expand(), expand_as()\n",
        "\n",
        "원소 1개짜리 디멘션(singleton dimension)을 더 큰 디멘션으로 확장\n",
        "\n",
        "Returns a new view of the self tensor with singleton dimensions expanded to a larger size."
      ]
    },
    {
      "cell_type": "code",
      "metadata": {
        "id": "MFI9tnxZNf9O",
        "colab_type": "code",
        "colab": {
          "base_uri": "https://localhost:8080/",
          "height": 86
        },
        "outputId": "d859a19a-f8fc-4a7d-e387-386a4d762e79"
      },
      "source": [
        "x = torch.tensor([[1], [2], [3]])\n",
        "print(x)\n",
        "x.size()"
      ],
      "execution_count": 19,
      "outputs": [
        {
          "output_type": "stream",
          "text": [
            "tensor([[1],\n",
            "        [2],\n",
            "        [3]])\n"
          ],
          "name": "stdout"
        },
        {
          "output_type": "execute_result",
          "data": {
            "text/plain": [
              "torch.Size([3, 1])"
            ]
          },
          "metadata": {
            "tags": []
          },
          "execution_count": 19
        }
      ]
    },
    {
      "cell_type": "code",
      "metadata": {
        "id": "BIo1fFz7Nf6Q",
        "colab_type": "code",
        "colab": {
          "base_uri": "https://localhost:8080/",
          "height": 86
        },
        "outputId": "c447ec78-cb18-4968-8a3e-e372687d2e31"
      },
      "source": [
        "y = x.expand(3, 4)\n",
        "print(y)\n",
        "print(y.size())"
      ],
      "execution_count": 20,
      "outputs": [
        {
          "output_type": "stream",
          "text": [
            "tensor([[1, 1, 1, 1],\n",
            "        [2, 2, 2, 2],\n",
            "        [3, 3, 3, 3]])\n",
            "torch.Size([3, 4])\n"
          ],
          "name": "stdout"
        }
      ]
    },
    {
      "cell_type": "code",
      "metadata": {
        "id": "-XbOIlodtwqH",
        "colab_type": "code",
        "colab": {
          "base_uri": "https://localhost:8080/",
          "height": 52
        },
        "outputId": "9b3bd3c4-296f-4130-89fd-973ab979201b"
      },
      "source": [
        "print(x.stride())\n",
        "print(y.stride())"
      ],
      "execution_count": 22,
      "outputs": [
        {
          "output_type": "stream",
          "text": [
            "(1, 1)\n",
            "(1, 0)\n"
          ],
          "name": "stdout"
        }
      ]
    },
    {
      "cell_type": "code",
      "metadata": {
        "id": "XkHEJsmQuAHc",
        "colab_type": "code",
        "colab": {
          "base_uri": "https://localhost:8080/",
          "height": 52
        },
        "outputId": "ac108e44-7e8e-452a-c989-78b56625e5c8"
      },
      "source": [
        "print(x.shape)\n",
        "print(y.shape)"
      ],
      "execution_count": 23,
      "outputs": [
        {
          "output_type": "stream",
          "text": [
            "torch.Size([3, 1])\n",
            "torch.Size([3, 4])\n"
          ],
          "name": "stdout"
        }
      ]
    },
    {
      "cell_type": "code",
      "metadata": {
        "id": "lY_J385DuIiV",
        "colab_type": "code",
        "colab": {
          "base_uri": "https://localhost:8080/",
          "height": 86
        },
        "outputId": "44abe505-d139-480d-ced5-263890e0c8e6"
      },
      "source": [
        "print(y.storage()) # y의 dim 1 shape이 4이므로 4번 0 stride를 한 후 dim 0 의 stride (= 1) 를 하나 증가함. 즉 storage가 변하는 것이 아니라 stride와 size만 변경."
      ],
      "execution_count": 24,
      "outputs": [
        {
          "output_type": "stream",
          "text": [
            " 1\n",
            " 2\n",
            " 3\n",
            "[torch.LongStorage of size 3]\n"
          ],
          "name": "stdout"
        }
      ]
    },
    {
      "cell_type": "code",
      "metadata": {
        "id": "CJw97eGZu2-k",
        "colab_type": "code",
        "colab": {
          "base_uri": "https://localhost:8080/",
          "height": 52
        },
        "outputId": "f108159d-679a-4178-9e62-8f989a061904"
      },
      "source": [
        "x = torch.tensor([[1, 2, 3]])\n",
        "print(x.size())\n",
        "x"
      ],
      "execution_count": 27,
      "outputs": [
        {
          "output_type": "stream",
          "text": [
            "torch.Size([1, 3])\n"
          ],
          "name": "stdout"
        },
        {
          "output_type": "execute_result",
          "data": {
            "text/plain": [
              "tensor([[1, 2, 3]])"
            ]
          },
          "metadata": {
            "tags": []
          },
          "execution_count": 27
        }
      ]
    },
    {
      "cell_type": "code",
      "metadata": {
        "id": "eo1k8qMbvUTd",
        "colab_type": "code",
        "colab": {
          "base_uri": "https://localhost:8080/",
          "height": 104
        },
        "outputId": "31226101-ae6e-4291-c730-6d0c153f5624"
      },
      "source": [
        "y = x.expand(4, 3) # dim 1 (= 3)는 x와 같고 dim 0 만 다름. 즉 dim 0 를 expand\n",
        "print(y.size())\n",
        "y"
      ],
      "execution_count": 31,
      "outputs": [
        {
          "output_type": "stream",
          "text": [
            "torch.Size([4, 3])\n"
          ],
          "name": "stdout"
        },
        {
          "output_type": "execute_result",
          "data": {
            "text/plain": [
              "tensor([[1, 2, 3],\n",
              "        [1, 2, 3],\n",
              "        [1, 2, 3],\n",
              "        [1, 2, 3]])"
            ]
          },
          "metadata": {
            "tags": []
          },
          "execution_count": 31
        }
      ]
    },
    {
      "cell_type": "code",
      "metadata": {
        "id": "WQlaa7aIvckg",
        "colab_type": "code",
        "colab": {
          "base_uri": "https://localhost:8080/",
          "height": 52
        },
        "outputId": "4f17a540-2f1f-4442-d41f-67bab7249682"
      },
      "source": [
        "print(x.stride())\n",
        "print(y.stride())"
      ],
      "execution_count": 33,
      "outputs": [
        {
          "output_type": "stream",
          "text": [
            "(3, 1)\n",
            "(0, 1)\n"
          ],
          "name": "stdout"
        }
      ]
    },
    {
      "cell_type": "code",
      "metadata": {
        "id": "DWGxyFxcXLHw",
        "colab_type": "code",
        "colab": {
          "base_uri": "https://localhost:8080/",
          "height": 86
        },
        "outputId": "bcbd2848-5649-4461-932f-2d244ff48b84"
      },
      "source": [
        "x = torch.tensor([[1], [2], [3]])\n",
        "z = x.expand(-1, 4)   # -1 means not changing the size of that dimension. 이 예에서는 x의 dim 0 인 3\n",
        "print(z)\n",
        "print(z.size())"
      ],
      "execution_count": 34,
      "outputs": [
        {
          "output_type": "stream",
          "text": [
            "tensor([[1, 1, 1, 1],\n",
            "        [2, 2, 2, 2],\n",
            "        [3, 3, 3, 3]])\n",
            "torch.Size([3, 4])\n"
          ],
          "name": "stdout"
        }
      ]
    },
    {
      "cell_type": "code",
      "metadata": {
        "id": "7R7dZzk0Nf3n",
        "colab_type": "code",
        "colab": {}
      },
      "source": [
        "other = torch.rand(3,4)"
      ],
      "execution_count": 35,
      "outputs": []
    },
    {
      "cell_type": "code",
      "metadata": {
        "id": "XuqeFilANf0v",
        "colab_type": "code",
        "colab": {
          "base_uri": "https://localhost:8080/",
          "height": 35
        },
        "outputId": "300ea406-201a-459c-89cc-4669e001e511"
      },
      "source": [
        "other.size()"
      ],
      "execution_count": 36,
      "outputs": [
        {
          "output_type": "execute_result",
          "data": {
            "text/plain": [
              "torch.Size([3, 4])"
            ]
          },
          "metadata": {
            "tags": []
          },
          "execution_count": 36
        }
      ]
    },
    {
      "cell_type": "code",
      "metadata": {
        "id": "aDtnyf6oNfw3",
        "colab_type": "code",
        "colab": {}
      },
      "source": [
        "y = x.expand_as(other) # other의 shape으로 expand. x.expand(3, 4)와 같은 의미."
      ],
      "execution_count": 37,
      "outputs": []
    },
    {
      "cell_type": "code",
      "metadata": {
        "id": "sz_Pwx91Nft-",
        "colab_type": "code",
        "colab": {
          "base_uri": "https://localhost:8080/",
          "height": 69
        },
        "outputId": "5cc82066-f482-4c7c-a049-2e9e20078cd3"
      },
      "source": [
        "y"
      ],
      "execution_count": 38,
      "outputs": [
        {
          "output_type": "execute_result",
          "data": {
            "text/plain": [
              "tensor([[1, 1, 1, 1],\n",
              "        [2, 2, 2, 2],\n",
              "        [3, 3, 3, 3]])"
            ]
          },
          "metadata": {
            "tags": []
          },
          "execution_count": 38
        }
      ]
    },
    {
      "cell_type": "code",
      "metadata": {
        "id": "qCkjq8QXMnFa",
        "colab_type": "code",
        "colab": {
          "base_uri": "https://localhost:8080/",
          "height": 35
        },
        "outputId": "21bcbe06-f598-4495-e9b2-30aa19ab433e"
      },
      "source": [
        "y.size()"
      ],
      "execution_count": 39,
      "outputs": [
        {
          "output_type": "execute_result",
          "data": {
            "text/plain": [
              "torch.Size([3, 4])"
            ]
          },
          "metadata": {
            "tags": []
          },
          "execution_count": 39
        }
      ]
    },
    {
      "cell_type": "markdown",
      "metadata": {
        "id": "o6YaVkXGdFSP",
        "colab_type": "text"
      },
      "source": [
        "## narrow(dim, start, length)\n",
        "\n",
        "dim : 줄일 디멘션\n",
        "start : 시작\n",
        "length : 개수"
      ]
    },
    {
      "cell_type": "code",
      "metadata": {
        "id": "-CajoGgVYo4G",
        "colab_type": "code",
        "colab": {
          "base_uri": "https://localhost:8080/",
          "height": 69
        },
        "outputId": "efa2199b-604d-4fbb-bb52-513dc66aab37"
      },
      "source": [
        "x = torch.tensor([[1, 2, 3], [4, 5, 6], [7, 8, 9]])\n",
        "x, x.shape"
      ],
      "execution_count": 40,
      "outputs": [
        {
          "output_type": "execute_result",
          "data": {
            "text/plain": [
              "(tensor([[1, 2, 3],\n",
              "         [4, 5, 6],\n",
              "         [7, 8, 9]]), torch.Size([3, 3]))"
            ]
          },
          "metadata": {
            "tags": []
          },
          "execution_count": 40
        }
      ]
    },
    {
      "cell_type": "code",
      "metadata": {
        "id": "wOeqBW5OdigK",
        "colab_type": "code",
        "colab": {
          "base_uri": "https://localhost:8080/",
          "height": 51
        },
        "outputId": "c20a3329-32b6-461b-90d1-51287518dcd5"
      },
      "source": [
        "y = torch.narrow(x, 0, 0, 2) # dim 0 에서 0 에서부터 2개\n",
        "y\n"
      ],
      "execution_count": null,
      "outputs": [
        {
          "output_type": "execute_result",
          "data": {
            "text/plain": [
              "tensor([[1, 2, 3],\n",
              "        [4, 5, 6]])"
            ]
          },
          "metadata": {
            "tags": []
          },
          "execution_count": 276
        }
      ]
    },
    {
      "cell_type": "code",
      "metadata": {
        "id": "4PUQovtffDeQ",
        "colab_type": "code",
        "colab": {
          "base_uri": "https://localhost:8080/",
          "height": 51
        },
        "outputId": "8753f057-1607-4c99-8b44-7c52a6d5e0c0"
      },
      "source": [
        "y = torch.narrow(x, 0, 1, 2) # dim 0 에서 1 에서부터 2개\n",
        "y\n"
      ],
      "execution_count": null,
      "outputs": [
        {
          "output_type": "execute_result",
          "data": {
            "text/plain": [
              "tensor([[4, 5, 6],\n",
              "        [7, 8, 9]])"
            ]
          },
          "metadata": {
            "tags": []
          },
          "execution_count": 283
        }
      ]
    },
    {
      "cell_type": "code",
      "metadata": {
        "id": "xdQZeN1vfsO3",
        "colab_type": "code",
        "colab": {
          "base_uri": "https://localhost:8080/",
          "height": 68
        },
        "outputId": "92845440-62fb-42c8-84a3-d3a31159b53a"
      },
      "source": [
        "z = torch.narrow(x, 1, 0, 1) # dim 1 에서 0 에서부터 1개\n",
        "z"
      ],
      "execution_count": null,
      "outputs": [
        {
          "output_type": "execute_result",
          "data": {
            "text/plain": [
              "tensor([[1],\n",
              "        [4],\n",
              "        [7]])"
            ]
          },
          "metadata": {
            "tags": []
          },
          "execution_count": 284
        }
      ]
    },
    {
      "cell_type": "code",
      "metadata": {
        "id": "r2wfnY76fy-s",
        "colab_type": "code",
        "colab": {
          "base_uri": "https://localhost:8080/",
          "height": 173
        },
        "outputId": "652c04fd-16c7-43a0-b132-270cbff8abfc"
      },
      "source": [
        "print(x.narrow(1, 1, 2))\n",
        "print(x.narrow(1, 1, 1))\n",
        "print(x.narrow(1, 2, 1))"
      ],
      "execution_count": 41,
      "outputs": [
        {
          "output_type": "stream",
          "text": [
            "tensor([[2, 3],\n",
            "        [5, 6],\n",
            "        [8, 9]])\n",
            "tensor([[2],\n",
            "        [5],\n",
            "        [8]])\n",
            "tensor([[3],\n",
            "        [6],\n",
            "        [9]])\n"
          ],
          "name": "stdout"
        }
      ]
    },
    {
      "cell_type": "markdown",
      "metadata": {
        "id": "K6dXGWUKZBtc",
        "colab_type": "text"
      },
      "source": [
        "## diagonal()"
      ]
    },
    {
      "cell_type": "markdown",
      "metadata": {
        "id": "2SMiWCbwAZYO",
        "colab_type": "text"
      },
      "source": [
        "[reference](https://pytorch.org/docs/master/generated/torch.diag.html)"
      ]
    },
    {
      "cell_type": "code",
      "metadata": {
        "id": "_Xsskd8PYoqS",
        "colab_type": "code",
        "colab": {
          "base_uri": "https://localhost:8080/",
          "height": 69
        },
        "outputId": "40247d39-74da-48f8-e79a-8f8cabab3e16"
      },
      "source": [
        "a = torch.randn(3, 3)\n",
        "a\n"
      ],
      "execution_count": 44,
      "outputs": [
        {
          "output_type": "execute_result",
          "data": {
            "text/plain": [
              "tensor([[-0.0223, -0.6918,  1.5389],\n",
              "        [-0.9080, -1.1560,  0.7747],\n",
              "        [-0.8174, -1.3837, -0.2016]])"
            ]
          },
          "metadata": {
            "tags": []
          },
          "execution_count": 44
        }
      ]
    },
    {
      "cell_type": "code",
      "metadata": {
        "id": "4Ybcfy43ZHcD",
        "colab_type": "code",
        "colab": {
          "base_uri": "https://localhost:8080/",
          "height": 35
        },
        "outputId": "2c4dc428-63eb-4b33-dede-82c5ec698d91"
      },
      "source": [
        "d = torch.diagonal(a, 0) # main diagonal\n",
        "d"
      ],
      "execution_count": 45,
      "outputs": [
        {
          "output_type": "execute_result",
          "data": {
            "text/plain": [
              "tensor([-0.0223, -1.1560, -0.2016])"
            ]
          },
          "metadata": {
            "tags": []
          },
          "execution_count": 45
        }
      ]
    },
    {
      "cell_type": "code",
      "metadata": {
        "id": "-wrpBquKZN4t",
        "colab_type": "code",
        "colab": {
          "base_uri": "https://localhost:8080/",
          "height": 35
        },
        "outputId": "b5db7cf3-d18e-47f2-d122-9b53919f89c6"
      },
      "source": [
        "d_above = torch.diagonal(a, 1) # above 1\n",
        "d_above"
      ],
      "execution_count": 46,
      "outputs": [
        {
          "output_type": "execute_result",
          "data": {
            "text/plain": [
              "tensor([-0.6918,  0.7747])"
            ]
          },
          "metadata": {
            "tags": []
          },
          "execution_count": 46
        }
      ]
    },
    {
      "cell_type": "code",
      "metadata": {
        "id": "AF1B13x1Zl_A",
        "colab_type": "code",
        "colab": {
          "base_uri": "https://localhost:8080/",
          "height": 35
        },
        "outputId": "70c94ec9-a788-44f4-f660-7aa51241c7ad"
      },
      "source": [
        "d_below = torch.diagonal(a, -1) # below 1\n",
        "d_below"
      ],
      "execution_count": 47,
      "outputs": [
        {
          "output_type": "execute_result",
          "data": {
            "text/plain": [
              "tensor([-0.9080, -1.3837])"
            ]
          },
          "metadata": {
            "tags": []
          },
          "execution_count": 47
        }
      ]
    },
    {
      "cell_type": "code",
      "metadata": {
        "id": "knwOSnuIZzD6",
        "colab_type": "code",
        "colab": {
          "base_uri": "https://localhost:8080/",
          "height": 86
        },
        "outputId": "c260019e-7dae-49d5-a05c-60da908681b0"
      },
      "source": [
        "a = torch.randn(4,4)\n",
        "a"
      ],
      "execution_count": 48,
      "outputs": [
        {
          "output_type": "execute_result",
          "data": {
            "text/plain": [
              "tensor([[ 1.6507,  1.5750,  0.4994,  0.8189],\n",
              "        [ 0.5311, -0.6119, -2.5881,  0.9553],\n",
              "        [ 0.1890, -0.3143,  2.0191,  1.1661],\n",
              "        [ 0.8890, -0.9541, -0.1668, -0.3820]])"
            ]
          },
          "metadata": {
            "tags": []
          },
          "execution_count": 48
        }
      ]
    },
    {
      "cell_type": "code",
      "metadata": {
        "id": "71MOtJE9Z5D-",
        "colab_type": "code",
        "colab": {
          "base_uri": "https://localhost:8080/",
          "height": 35
        },
        "outputId": "26264ce2-6367-40c5-e4ff-17d810d7871b"
      },
      "source": [
        "a.diagonal(1)"
      ],
      "execution_count": 49,
      "outputs": [
        {
          "output_type": "execute_result",
          "data": {
            "text/plain": [
              "tensor([ 1.5750, -2.5881,  1.1661])"
            ]
          },
          "metadata": {
            "tags": []
          },
          "execution_count": 49
        }
      ]
    },
    {
      "cell_type": "code",
      "metadata": {
        "id": "aNtB2PVtZ49Q",
        "colab_type": "code",
        "colab": {
          "base_uri": "https://localhost:8080/",
          "height": 35
        },
        "outputId": "54f9dd26-262b-497c-b8e6-9efd9b0dc0d4"
      },
      "source": [
        "a.diagonal(2)"
      ],
      "execution_count": 50,
      "outputs": [
        {
          "output_type": "execute_result",
          "data": {
            "text/plain": [
              "tensor([0.4994, 0.9553])"
            ]
          },
          "metadata": {
            "tags": []
          },
          "execution_count": 50
        }
      ]
    },
    {
      "cell_type": "code",
      "metadata": {
        "id": "2my9HwKSZ41z",
        "colab_type": "code",
        "colab": {
          "base_uri": "https://localhost:8080/",
          "height": 35
        },
        "outputId": "6ff66b75-3459-4191-a92b-cfe991d666ea"
      },
      "source": [
        "a.diagonal(3)"
      ],
      "execution_count": 51,
      "outputs": [
        {
          "output_type": "execute_result",
          "data": {
            "text/plain": [
              "tensor([0.8189])"
            ]
          },
          "metadata": {
            "tags": []
          },
          "execution_count": 51
        }
      ]
    },
    {
      "cell_type": "code",
      "metadata": {
        "id": "1N8JrpWoZ4jx",
        "colab_type": "code",
        "colab": {
          "base_uri": "https://localhost:8080/",
          "height": 35
        },
        "outputId": "ba5e4fd4-8ecf-47b6-dbf9-7a04a4ceeca7"
      },
      "source": [
        "a.diagonal(4)"
      ],
      "execution_count": 52,
      "outputs": [
        {
          "output_type": "execute_result",
          "data": {
            "text/plain": [
              "tensor([])"
            ]
          },
          "metadata": {
            "tags": []
          },
          "execution_count": 52
        }
      ]
    },
    {
      "cell_type": "code",
      "metadata": {
        "id": "OQ91HcAZaDyr",
        "colab_type": "code",
        "colab": {
          "base_uri": "https://localhost:8080/",
          "height": 35
        },
        "outputId": "8d1af164-687e-484f-ece8-5a44b6e3c2c1"
      },
      "source": [
        "a.diagonal(5), a.diagonal(6).size()"
      ],
      "execution_count": 53,
      "outputs": [
        {
          "output_type": "execute_result",
          "data": {
            "text/plain": [
              "(tensor([]), torch.Size([0]))"
            ]
          },
          "metadata": {
            "tags": []
          },
          "execution_count": 53
        }
      ]
    },
    {
      "cell_type": "code",
      "metadata": {
        "id": "N6-O9MjoGvfT",
        "colab_type": "code",
        "colab": {
          "base_uri": "https://localhost:8080/",
          "height": 35
        },
        "outputId": "00967f65-1e55-48ba-82f6-cc8648e4ea16"
      },
      "source": [
        "x = torch.tensor([1,2,3])\n",
        "x"
      ],
      "execution_count": 66,
      "outputs": [
        {
          "output_type": "execute_result",
          "data": {
            "text/plain": [
              "tensor([1, 2, 3])"
            ]
          },
          "metadata": {
            "tags": []
          },
          "execution_count": 66
        }
      ]
    },
    {
      "cell_type": "code",
      "metadata": {
        "id": "HxngIPKVG1am",
        "colab_type": "code",
        "colab": {
          "base_uri": "https://localhost:8080/",
          "height": 35
        },
        "outputId": "6068fabf-1228-4638-8ba0-d21a35f23623"
      },
      "source": [
        "x.size()"
      ],
      "execution_count": 67,
      "outputs": [
        {
          "output_type": "execute_result",
          "data": {
            "text/plain": [
              "torch.Size([3])"
            ]
          },
          "metadata": {
            "tags": []
          },
          "execution_count": 67
        }
      ]
    },
    {
      "cell_type": "code",
      "metadata": {
        "id": "aJ23-n3DG1OR",
        "colab_type": "code",
        "colab": {
          "base_uri": "https://localhost:8080/",
          "height": 69
        },
        "outputId": "7eaadc16-ff36-48e6-8f12-a34754768b12"
      },
      "source": [
        "print(x.diag()) # 1D 의 경우는 이 벡터가 대각에 있는 대각 2D 텐서를 리턴"
      ],
      "execution_count": 68,
      "outputs": [
        {
          "output_type": "stream",
          "text": [
            "tensor([[1, 0, 0],\n",
            "        [0, 2, 0],\n",
            "        [0, 0, 3]])\n"
          ],
          "name": "stdout"
        }
      ]
    },
    {
      "cell_type": "code",
      "metadata": {
        "id": "r7CgFt2YHWM0",
        "colab_type": "code",
        "colab": {
          "base_uri": "https://localhost:8080/",
          "height": 190
        },
        "outputId": "1fff9cdd-4fc6-4be2-a806-e9b4fa5170e2"
      },
      "source": [
        "x.diag().storage()"
      ],
      "execution_count": 72,
      "outputs": [
        {
          "output_type": "execute_result",
          "data": {
            "text/plain": [
              " 1\n",
              " 0\n",
              " 0\n",
              " 0\n",
              " 2\n",
              " 0\n",
              " 0\n",
              " 0\n",
              " 3\n",
              "[torch.LongStorage of size 9]"
            ]
          },
          "metadata": {
            "tags": []
          },
          "execution_count": 72
        }
      ]
    },
    {
      "cell_type": "code",
      "metadata": {
        "id": "SsIeE65IHa2A",
        "colab_type": "code",
        "colab": {
          "base_uri": "https://localhost:8080/",
          "height": 86
        },
        "outputId": "26013a6f-77d9-4840-809e-839e9119f51e"
      },
      "source": [
        "x.storage()"
      ],
      "execution_count": 73,
      "outputs": [
        {
          "output_type": "execute_result",
          "data": {
            "text/plain": [
              " 1\n",
              " 2\n",
              " 3\n",
              "[torch.LongStorage of size 3]"
            ]
          },
          "metadata": {
            "tags": []
          },
          "execution_count": 73
        }
      ]
    },
    {
      "cell_type": "markdown",
      "metadata": {
        "id": "CX6-UBOSEkjQ",
        "colab_type": "text"
      },
      "source": [
        "Multidimensional 의 경우 numpy 와 호환하도록 정의. 혼동을 피하기 위해 꼭 필요하지 않으면 피할 것.\n",
        "\n",
        "[ref](https://numpy.org/doc/stable/reference/generated/numpy.diagonal.html)\n",
        "\n",
        "간략히 요약하면 다차원에서는 대각행렬을 구할 dim 두 개를 지정해야 함. (디폴트는 0, 1 dim)\n",
        "\n",
        "최종 대각행렬은 남은 (dim, 두 dim의 대각 행렬 dim). 요소별 계산은 \n",
        "[i, i+offset], 여기서 offset은 인자로 받은 offset (0=main, 양수는 above, 음수는 below)\n"
      ]
    },
    {
      "cell_type": "code",
      "metadata": {
        "id": "sXkI4iC7a6UF",
        "colab_type": "code",
        "colab": {
          "base_uri": "https://localhost:8080/",
          "height": 207
        },
        "outputId": "9ca8e587-8d22-4ff4-fbde-9830cf45eb65"
      },
      "source": [
        "x = torch.randn(2, 5, 4)\n",
        "print(x)"
      ],
      "execution_count": 54,
      "outputs": [
        {
          "output_type": "stream",
          "text": [
            "tensor([[[-2.0492, -0.0059,  0.6674, -0.9073],\n",
            "         [-1.7876, -0.2658,  1.7171,  0.0487],\n",
            "         [-1.3020, -0.8256,  0.9608, -0.1334],\n",
            "         [ 1.1768,  0.1379, -0.1320,  1.9465],\n",
            "         [-1.0263,  0.8687,  1.0527,  0.0344]],\n",
            "\n",
            "        [[-1.4269,  0.1545,  0.5535, -0.5139],\n",
            "         [-1.0426, -0.6528, -0.4059,  0.3449],\n",
            "         [ 0.4035, -0.8035,  0.5099,  0.9926],\n",
            "         [-1.2588,  0.8230, -0.0743, -0.1003],\n",
            "         [ 1.1996,  0.9502,  0.4704, -1.0263]]])\n"
          ],
          "name": "stdout"
        }
      ]
    },
    {
      "cell_type": "code",
      "metadata": {
        "id": "JAQn2vs2a6Rh",
        "colab_type": "code",
        "colab": {
          "base_uri": "https://localhost:8080/",
          "height": 86
        },
        "outputId": "09756340-6328-4959-9732-61a2ccc6121c"
      },
      "source": [
        "x_diag = torch.diagonal(x)\n",
        "x_diag"
      ],
      "execution_count": 55,
      "outputs": [
        {
          "output_type": "execute_result",
          "data": {
            "text/plain": [
              "tensor([[-2.0492, -1.0426],\n",
              "        [-0.0059, -0.6528],\n",
              "        [ 0.6674, -0.4059],\n",
              "        [-0.9073,  0.3449]])"
            ]
          },
          "metadata": {
            "tags": []
          },
          "execution_count": 55
        }
      ]
    },
    {
      "cell_type": "code",
      "metadata": {
        "id": "_yEskkdoa6IQ",
        "colab_type": "code",
        "colab": {
          "base_uri": "https://localhost:8080/",
          "height": 35
        },
        "outputId": "5aaa960a-5018-4e2b-8946-7afa941ee15b"
      },
      "source": [
        "print(x[0,0,0], x[1,1,0])"
      ],
      "execution_count": 58,
      "outputs": [
        {
          "output_type": "stream",
          "text": [
            "tensor(-2.0492) tensor(-1.0426)\n"
          ],
          "name": "stdout"
        }
      ]
    },
    {
      "cell_type": "code",
      "metadata": {
        "id": "ADuWaoiha57J",
        "colab_type": "code",
        "colab": {
          "base_uri": "https://localhost:8080/",
          "height": 35
        },
        "outputId": "08147617-d690-457d-81ec-83167f01f25f"
      },
      "source": [
        "print(x[0,0,1], x[1,1,1])"
      ],
      "execution_count": 59,
      "outputs": [
        {
          "output_type": "stream",
          "text": [
            "tensor(-0.0059) tensor(-0.6528)\n"
          ],
          "name": "stdout"
        }
      ]
    },
    {
      "cell_type": "code",
      "metadata": {
        "id": "uQGurJ_lCi1M",
        "colab_type": "code",
        "colab": {
          "base_uri": "https://localhost:8080/",
          "height": 35
        },
        "outputId": "646e578b-bc8a-4993-c83a-947eaa0e5471"
      },
      "source": [
        "print(x[0,0,2], x[1,1,2])"
      ],
      "execution_count": 61,
      "outputs": [
        {
          "output_type": "stream",
          "text": [
            "tensor(0.6674) tensor(-0.4059)\n"
          ],
          "name": "stdout"
        }
      ]
    },
    {
      "cell_type": "code",
      "metadata": {
        "id": "sq_SNEUHC795",
        "colab_type": "code",
        "colab": {
          "base_uri": "https://localhost:8080/",
          "height": 35
        },
        "outputId": "0cc7dce6-29c5-45e1-8230-9bcbf01d9341"
      },
      "source": [
        "print(x[0,0,3], x[1,1,3])"
      ],
      "execution_count": 62,
      "outputs": [
        {
          "output_type": "stream",
          "text": [
            "tensor(-0.9073) tensor(0.3449)\n"
          ],
          "name": "stdout"
        }
      ]
    },
    {
      "cell_type": "code",
      "metadata": {
        "id": "Fl1liJ00ZTeW",
        "colab_type": "code",
        "colab": {
          "base_uri": "https://localhost:8080/",
          "height": 967
        },
        "outputId": "b5edd6c2-77af-46ee-cfd4-bf541c74e31c"
      },
      "source": [
        "x = torch.randn(2, 5, 4, 2)\n",
        "print(x)\n",
        "x_diag = torch.diagonal(x, offset=-1, dim1=1, dim2=2)\n",
        "x_diag"
      ],
      "execution_count": 63,
      "outputs": [
        {
          "output_type": "stream",
          "text": [
            "tensor([[[[ 1.1183, -1.4422],\n",
            "          [ 0.4139, -0.2573],\n",
            "          [-1.5291, -0.5723],\n",
            "          [-0.1902, -0.1171]],\n",
            "\n",
            "         [[-1.8567, -0.7487],\n",
            "          [-0.2163,  1.4991],\n",
            "          [-0.3689, -0.6270],\n",
            "          [-0.5474,  1.4804]],\n",
            "\n",
            "         [[-0.6326,  0.1784],\n",
            "          [ 0.2067,  1.2668],\n",
            "          [ 0.0730,  0.3733],\n",
            "          [-0.0450, -0.7877]],\n",
            "\n",
            "         [[-0.3287,  0.7267],\n",
            "          [-0.0517, -1.1751],\n",
            "          [-0.9915, -0.6030],\n",
            "          [-1.0930,  0.3529]],\n",
            "\n",
            "         [[ 0.8305,  1.0001],\n",
            "          [-1.2874,  1.6133],\n",
            "          [ 0.3534,  2.7668],\n",
            "          [ 1.6386,  0.9624]]],\n",
            "\n",
            "\n",
            "        [[[-0.7541,  0.6676],\n",
            "          [-1.1403, -0.6698],\n",
            "          [-0.1291,  0.5942],\n",
            "          [ 0.9403, -0.9440]],\n",
            "\n",
            "         [[ 0.4691, -0.9164],\n",
            "          [ 0.6553, -1.7094],\n",
            "          [-0.3649, -1.8418],\n",
            "          [-0.0068,  0.4936]],\n",
            "\n",
            "         [[ 0.0619, -0.0447],\n",
            "          [-1.1048,  1.3685],\n",
            "          [-0.4687, -0.9665],\n",
            "          [ 2.2898,  0.3146]],\n",
            "\n",
            "         [[-0.3306,  0.1143],\n",
            "          [-0.0258,  0.4394],\n",
            "          [-1.0908,  0.6571],\n",
            "          [-0.0858,  0.0708]],\n",
            "\n",
            "         [[ 0.5342, -0.8021],\n",
            "          [-0.5288, -0.0509],\n",
            "          [-2.3154,  2.0783],\n",
            "          [-0.3169, -0.4758]]]])\n"
          ],
          "name": "stdout"
        },
        {
          "output_type": "execute_result",
          "data": {
            "text/plain": [
              "tensor([[[-1.8567,  0.2067, -0.9915,  1.6386],\n",
              "         [-0.7487,  1.2668, -0.6030,  0.9624]],\n",
              "\n",
              "        [[ 0.4691, -1.1048, -1.0908, -0.3169],\n",
              "         [-0.9164,  1.3685,  0.6571, -0.4758]]])"
            ]
          },
          "metadata": {
            "tags": []
          },
          "execution_count": 63
        }
      ]
    },
    {
      "cell_type": "markdown",
      "metadata": {
        "id": "JEdDU_zIIFC5",
        "colab_type": "text"
      },
      "source": [
        "## permute"
      ]
    },
    {
      "cell_type": "code",
      "metadata": {
        "id": "yP836BBFLSPF",
        "colab_type": "code",
        "colab": {
          "base_uri": "https://localhost:8080/",
          "height": 138
        },
        "outputId": "99a72d11-ae7f-4a47-d3f0-116802296ef9"
      },
      "source": [
        "x = torch.tensor([[[1, 2, 3, 4, 5], [6,7,8,9,10], [11,12,13,14,15]], [[16, 17, 18, 19, 20], [21,22,23,24,25], [26,27,28,29,30]]])\n",
        "x"
      ],
      "execution_count": 89,
      "outputs": [
        {
          "output_type": "execute_result",
          "data": {
            "text/plain": [
              "tensor([[[ 1,  2,  3,  4,  5],\n",
              "         [ 6,  7,  8,  9, 10],\n",
              "         [11, 12, 13, 14, 15]],\n",
              "\n",
              "        [[16, 17, 18, 19, 20],\n",
              "         [21, 22, 23, 24, 25],\n",
              "         [26, 27, 28, 29, 30]]])"
            ]
          },
          "metadata": {
            "tags": []
          },
          "execution_count": 89
        }
      ]
    },
    {
      "cell_type": "code",
      "metadata": {
        "id": "PugD3ieMLV3i",
        "colab_type": "code",
        "colab": {
          "base_uri": "https://localhost:8080/",
          "height": 35
        },
        "outputId": "90b1d21a-0f8a-4793-d663-ef50f6cf6b49"
      },
      "source": [
        "print(x.shape)"
      ],
      "execution_count": 90,
      "outputs": [
        {
          "output_type": "stream",
          "text": [
            "torch.Size([2, 3, 5])\n"
          ],
          "name": "stdout"
        }
      ]
    },
    {
      "cell_type": "code",
      "metadata": {
        "id": "R_cvhcpOL78K",
        "colab_type": "code",
        "colab": {
          "base_uri": "https://localhost:8080/",
          "height": 35
        },
        "outputId": "72ffa44a-d574-4066-eaf0-e93a156cde59"
      },
      "source": [
        "print(x.stride())"
      ],
      "execution_count": 92,
      "outputs": [
        {
          "output_type": "stream",
          "text": [
            "(15, 5, 1)\n"
          ],
          "name": "stdout"
        }
      ]
    },
    {
      "cell_type": "code",
      "metadata": {
        "id": "2J-UlfVIEjiE",
        "colab_type": "code",
        "colab": {
          "base_uri": "https://localhost:8080/",
          "height": 363
        },
        "outputId": "00c47442-67f9-4bb5-cd48-c5fbb881861b"
      },
      "source": [
        "y = x.permute(2, 1, 0)\n",
        "print(y.shape)\n",
        "y"
      ],
      "execution_count": 91,
      "outputs": [
        {
          "output_type": "stream",
          "text": [
            "torch.Size([5, 3, 2])\n"
          ],
          "name": "stdout"
        },
        {
          "output_type": "execute_result",
          "data": {
            "text/plain": [
              "tensor([[[ 1, 16],\n",
              "         [ 6, 21],\n",
              "         [11, 26]],\n",
              "\n",
              "        [[ 2, 17],\n",
              "         [ 7, 22],\n",
              "         [12, 27]],\n",
              "\n",
              "        [[ 3, 18],\n",
              "         [ 8, 23],\n",
              "         [13, 28]],\n",
              "\n",
              "        [[ 4, 19],\n",
              "         [ 9, 24],\n",
              "         [14, 29]],\n",
              "\n",
              "        [[ 5, 20],\n",
              "         [10, 25],\n",
              "         [15, 30]]])"
            ]
          },
          "metadata": {
            "tags": []
          },
          "execution_count": 91
        }
      ]
    },
    {
      "cell_type": "code",
      "metadata": {
        "id": "Jnh4iFS6L_bj",
        "colab_type": "code",
        "colab": {
          "base_uri": "https://localhost:8080/",
          "height": 35
        },
        "outputId": "b7537c9f-66b8-4ccb-a9e2-5d066824247f"
      },
      "source": [
        "print(y.stride())"
      ],
      "execution_count": 93,
      "outputs": [
        {
          "output_type": "stream",
          "text": [
            "(1, 5, 15)\n"
          ],
          "name": "stdout"
        }
      ]
    },
    {
      "cell_type": "code",
      "metadata": {
        "id": "7AijVUxeEjbb",
        "colab_type": "code",
        "colab": {
          "base_uri": "https://localhost:8080/",
          "height": 294
        },
        "outputId": "152ba038-3fab-4598-8522-760b0a7e3d74"
      },
      "source": [
        "y = x.permute(2, 0, 1)\n",
        "print(y.shape)\n",
        "print(y.stride())\n",
        "y"
      ],
      "execution_count": 96,
      "outputs": [
        {
          "output_type": "stream",
          "text": [
            "torch.Size([5, 2, 3])\n",
            "(1, 15, 5)\n"
          ],
          "name": "stdout"
        },
        {
          "output_type": "execute_result",
          "data": {
            "text/plain": [
              "tensor([[[ 1,  6, 11],\n",
              "         [16, 21, 26]],\n",
              "\n",
              "        [[ 2,  7, 12],\n",
              "         [17, 22, 27]],\n",
              "\n",
              "        [[ 3,  8, 13],\n",
              "         [18, 23, 28]],\n",
              "\n",
              "        [[ 4,  9, 14],\n",
              "         [19, 24, 29]],\n",
              "\n",
              "        [[ 5, 10, 15],\n",
              "         [20, 25, 30]]])"
            ]
          },
          "metadata": {
            "tags": []
          },
          "execution_count": 96
        }
      ]
    },
    {
      "cell_type": "code",
      "metadata": {
        "id": "sOektWKiEjZb",
        "colab_type": "code",
        "colab": {
          "base_uri": "https://localhost:8080/",
          "height": 138
        },
        "outputId": "3c822dc8-a239-4989-fb0b-b40c54d5cb30"
      },
      "source": [
        "x"
      ],
      "execution_count": 97,
      "outputs": [
        {
          "output_type": "execute_result",
          "data": {
            "text/plain": [
              "tensor([[[ 1,  2,  3,  4,  5],\n",
              "         [ 6,  7,  8,  9, 10],\n",
              "         [11, 12, 13, 14, 15]],\n",
              "\n",
              "        [[16, 17, 18, 19, 20],\n",
              "         [21, 22, 23, 24, 25],\n",
              "         [26, 27, 28, 29, 30]]])"
            ]
          },
          "metadata": {
            "tags": []
          },
          "execution_count": 97
        }
      ]
    },
    {
      "cell_type": "code",
      "metadata": {
        "id": "DA_qJIeLHTuG",
        "colab_type": "code",
        "colab": {
          "base_uri": "https://localhost:8080/",
          "height": 35
        },
        "outputId": "88172c9f-8fc3-4bcd-85d8-2d461845b265"
      },
      "source": [
        "y.shape"
      ],
      "execution_count": 98,
      "outputs": [
        {
          "output_type": "execute_result",
          "data": {
            "text/plain": [
              "torch.Size([5, 2, 3])"
            ]
          },
          "metadata": {
            "tags": []
          },
          "execution_count": 98
        }
      ]
    },
    {
      "cell_type": "code",
      "metadata": {
        "id": "8WBIXSViEjXL",
        "colab_type": "code",
        "colab": {
          "base_uri": "https://localhost:8080/",
          "height": 35
        },
        "outputId": "10f06b27-bc05-4dfc-925b-dce89d36efc7"
      },
      "source": [
        "y.is_contiguous()"
      ],
      "execution_count": 99,
      "outputs": [
        {
          "output_type": "execute_result",
          "data": {
            "text/plain": [
              "False"
            ]
          },
          "metadata": {
            "tags": []
          },
          "execution_count": 99
        }
      ]
    },
    {
      "cell_type": "code",
      "metadata": {
        "id": "z0E14-Y0EjTI",
        "colab_type": "code",
        "colab": {
          "base_uri": "https://localhost:8080/",
          "height": 35
        },
        "outputId": "bf4311c1-1a2b-4564-985b-c0cdaec1fa0b"
      },
      "source": [
        "y.storage_offset()"
      ],
      "execution_count": 100,
      "outputs": [
        {
          "output_type": "execute_result",
          "data": {
            "text/plain": [
              "0"
            ]
          },
          "metadata": {
            "tags": []
          },
          "execution_count": 100
        }
      ]
    },
    {
      "cell_type": "markdown",
      "metadata": {
        "id": "cHiK0mw9IdJ6",
        "colab_type": "text"
      },
      "source": [
        "## item()\n",
        "\n",
        "If you have a one element tensor, use ``.item()`` to get the value as a\n",
        "Python number\n"
      ]
    },
    {
      "cell_type": "code",
      "metadata": {
        "id": "cWysOZ1K7Ulv",
        "colab_type": "code",
        "colab": {
          "base_uri": "https://localhost:8080/",
          "height": 86
        },
        "outputId": "4e6fe8c9-cc38-4abe-c573-ebff94cf8c1b"
      },
      "source": [
        "x = torch.randn(1)\n",
        "print(x)\n",
        "print(type(x), type(x[0]))\n",
        "print(x.item())\n",
        "print(type(x.item()))"
      ],
      "execution_count": 104,
      "outputs": [
        {
          "output_type": "stream",
          "text": [
            "tensor([0.8856])\n",
            "<class 'torch.Tensor'> <class 'torch.Tensor'>\n",
            "0.8856474757194519\n",
            "<class 'float'>\n"
          ],
          "name": "stdout"
        }
      ]
    },
    {
      "cell_type": "markdown",
      "metadata": {
        "id": "u_nL7-MUIrFd",
        "colab_type": "text"
      },
      "source": [
        "## tensor.T\n",
        "\n",
        "모든 dim을 reverse한 transpose\n",
        "\n",
        "https://pytorch.org/docs/master/tensors.html?highlight=torch%20t#torch.Tensor.T\n",
        "\n",
        "If n is the number of dimensions in x, x.T is equivalent to x.permute(n-1, n-2, ..., 0)"
      ]
    },
    {
      "cell_type": "code",
      "metadata": {
        "id": "HAtQY5x0Ejsb",
        "colab_type": "code",
        "colab": {
          "base_uri": "https://localhost:8080/",
          "height": 138
        },
        "outputId": "daac1a65-ed6b-4189-cf87-a52c98dc59a9"
      },
      "source": [
        "x = torch.rand(2,3,4)\n",
        "x"
      ],
      "execution_count": 81,
      "outputs": [
        {
          "output_type": "execute_result",
          "data": {
            "text/plain": [
              "tensor([[[0.1798, 0.8844, 0.9474, 0.5939],\n",
              "         [0.3788, 0.0661, 0.3948, 0.3456],\n",
              "         [0.3868, 0.4505, 0.2698, 0.4747]],\n",
              "\n",
              "        [[0.3786, 0.9478, 0.1596, 0.8496],\n",
              "         [0.7125, 0.1223, 0.6784, 0.3157],\n",
              "         [0.1524, 0.4231, 0.8222, 0.5244]]])"
            ]
          },
          "metadata": {
            "tags": []
          },
          "execution_count": 81
        }
      ]
    },
    {
      "cell_type": "code",
      "metadata": {
        "id": "QnsHFUjwIIHY",
        "colab_type": "code",
        "colab": {
          "base_uri": "https://localhost:8080/",
          "height": 138
        },
        "outputId": "daeb4eb2-2cac-418c-b600-14f46b416645"
      },
      "source": [
        "print(x)"
      ],
      "execution_count": 82,
      "outputs": [
        {
          "output_type": "stream",
          "text": [
            "tensor([[[0.1798, 0.8844, 0.9474, 0.5939],\n",
            "         [0.3788, 0.0661, 0.3948, 0.3456],\n",
            "         [0.3868, 0.4505, 0.2698, 0.4747]],\n",
            "\n",
            "        [[0.3786, 0.9478, 0.1596, 0.8496],\n",
            "         [0.7125, 0.1223, 0.6784, 0.3157],\n",
            "         [0.1524, 0.4231, 0.8222, 0.5244]]])\n"
          ],
          "name": "stdout"
        }
      ]
    },
    {
      "cell_type": "code",
      "metadata": {
        "id": "phJc2IgkEjp_",
        "colab_type": "code",
        "colab": {
          "base_uri": "https://localhost:8080/",
          "height": 570
        },
        "outputId": "25c08e40-623d-4e6e-b948-56673d049a9e"
      },
      "source": [
        "\n",
        "print(x.shape)\n",
        "print(x.T.shape)\n",
        "print(x.T)\n",
        "print(x.permute(2,1,0))\n"
      ],
      "execution_count": 88,
      "outputs": [
        {
          "output_type": "stream",
          "text": [
            "torch.Size([2, 3, 4])\n",
            "torch.Size([4, 3, 2])\n",
            "tensor([[[0.1798, 0.3786],\n",
            "         [0.3788, 0.7125],\n",
            "         [0.3868, 0.1524]],\n",
            "\n",
            "        [[0.8844, 0.9478],\n",
            "         [0.0661, 0.1223],\n",
            "         [0.4505, 0.4231]],\n",
            "\n",
            "        [[0.9474, 0.1596],\n",
            "         [0.3948, 0.6784],\n",
            "         [0.2698, 0.8222]],\n",
            "\n",
            "        [[0.5939, 0.8496],\n",
            "         [0.3456, 0.3157],\n",
            "         [0.4747, 0.5244]]])\n",
            "tensor([[[0.1798, 0.3786],\n",
            "         [0.3788, 0.7125],\n",
            "         [0.3868, 0.1524]],\n",
            "\n",
            "        [[0.8844, 0.9478],\n",
            "         [0.0661, 0.1223],\n",
            "         [0.4505, 0.4231]],\n",
            "\n",
            "        [[0.9474, 0.1596],\n",
            "         [0.3948, 0.6784],\n",
            "         [0.2698, 0.8222]],\n",
            "\n",
            "        [[0.5939, 0.8496],\n",
            "         [0.3456, 0.3157],\n",
            "         [0.4747, 0.5244]]])\n"
          ],
          "name": "stdout"
        }
      ]
    },
    {
      "cell_type": "code",
      "metadata": {
        "id": "R8a9Ghd0Ejmu",
        "colab_type": "code",
        "colab": {}
      },
      "source": [
        "x = torch.tensor([[[1, 2, 3, 4, 5], [6,7,8,9,10], [11,12,13,14,15]], [[16, 17, 18, 19, 20], [21,22,23,24,25], [26,27,28,29,30]]])"
      ],
      "execution_count": 105,
      "outputs": []
    },
    {
      "cell_type": "code",
      "metadata": {
        "id": "h5lXJqqxFkXO",
        "colab_type": "code",
        "colab": {
          "base_uri": "https://localhost:8080/",
          "height": 155
        },
        "outputId": "3924550a-3f20-4e2c-ff39-838bf2f59f8b"
      },
      "source": [
        "print(x.shape)\n",
        "x"
      ],
      "execution_count": 106,
      "outputs": [
        {
          "output_type": "stream",
          "text": [
            "torch.Size([2, 3, 5])\n"
          ],
          "name": "stdout"
        },
        {
          "output_type": "execute_result",
          "data": {
            "text/plain": [
              "tensor([[[ 1,  2,  3,  4,  5],\n",
              "         [ 6,  7,  8,  9, 10],\n",
              "         [11, 12, 13, 14, 15]],\n",
              "\n",
              "        [[16, 17, 18, 19, 20],\n",
              "         [21, 22, 23, 24, 25],\n",
              "         [26, 27, 28, 29, 30]]])"
            ]
          },
          "metadata": {
            "tags": []
          },
          "execution_count": 106
        }
      ]
    },
    {
      "cell_type": "code",
      "metadata": {
        "id": "5yxlj_O-EjkZ",
        "colab_type": "code",
        "colab": {
          "base_uri": "https://localhost:8080/",
          "height": 363
        },
        "outputId": "6d9b6e7d-4710-407a-de41-27f97ee6259d"
      },
      "source": [
        "print(x.T.shape)\n",
        "x.T"
      ],
      "execution_count": 107,
      "outputs": [
        {
          "output_type": "stream",
          "text": [
            "torch.Size([5, 3, 2])\n"
          ],
          "name": "stdout"
        },
        {
          "output_type": "execute_result",
          "data": {
            "text/plain": [
              "tensor([[[ 1, 16],\n",
              "         [ 6, 21],\n",
              "         [11, 26]],\n",
              "\n",
              "        [[ 2, 17],\n",
              "         [ 7, 22],\n",
              "         [12, 27]],\n",
              "\n",
              "        [[ 3, 18],\n",
              "         [ 8, 23],\n",
              "         [13, 28]],\n",
              "\n",
              "        [[ 4, 19],\n",
              "         [ 9, 24],\n",
              "         [14, 29]],\n",
              "\n",
              "        [[ 5, 20],\n",
              "         [10, 25],\n",
              "         [15, 30]]])"
            ]
          },
          "metadata": {
            "tags": []
          },
          "execution_count": 107
        }
      ]
    },
    {
      "cell_type": "markdown",
      "metadata": {
        "id": "bDCU8JwH7Uly",
        "colab_type": "text"
      },
      "source": [
        "**Read later:**\n",
        "\n",
        "\n",
        "  100+ Tensor operations, including transposing, indexing, slicing,\n",
        "  mathematical operations, linear algebra, random numbers, etc.,\n",
        "  are described\n",
        "  `here <https://pytorch.org/docs/torch>`_.\n",
        "\n",
        "NumPy Bridge\n",
        "------------\n",
        "\n",
        "Converting a Torch Tensor to a NumPy array and vice versa is a breeze.\n",
        "\n",
        "## The Torch Tensor and NumPy array will share their underlying memory locations (if the Torch Tensor is on CPU), and changing one will change the other.\n",
        "\n",
        "Converting a Torch Tensor to a NumPy Array\n",
        "^^^^^^^^^^^^^^^^^^^^^^^^^^^^^^^^^^^^^^^^^^\n",
        "\n"
      ]
    },
    {
      "cell_type": "code",
      "metadata": {
        "id": "nWkhUyYO7Ulz",
        "colab_type": "code",
        "colab": {
          "base_uri": "https://localhost:8080/",
          "height": 35
        },
        "outputId": "cf8235cc-d044-4fe3-80fe-08d8098f72a6"
      },
      "source": [
        "a = torch.ones(5)\n",
        "print(a)"
      ],
      "execution_count": 108,
      "outputs": [
        {
          "output_type": "stream",
          "text": [
            "tensor([1., 1., 1., 1., 1.])\n"
          ],
          "name": "stdout"
        }
      ]
    },
    {
      "cell_type": "code",
      "metadata": {
        "id": "89Fgo3zG7Ul2",
        "colab_type": "code",
        "colab": {
          "base_uri": "https://localhost:8080/",
          "height": 35
        },
        "outputId": "271fffaf-51ed-4aec-c0a5-1adb37504bc7"
      },
      "source": [
        "b = a.numpy()\n",
        "print(b)"
      ],
      "execution_count": 109,
      "outputs": [
        {
          "output_type": "stream",
          "text": [
            "[1. 1. 1. 1. 1.]\n"
          ],
          "name": "stdout"
        }
      ]
    },
    {
      "cell_type": "markdown",
      "metadata": {
        "id": "qLq--qju7Ul5",
        "colab_type": "text"
      },
      "source": [
        "See how the numpy array changed in value.\n",
        "\n"
      ]
    },
    {
      "cell_type": "code",
      "metadata": {
        "id": "ZzaS_fig7Ul5",
        "colab_type": "code",
        "colab": {
          "base_uri": "https://localhost:8080/",
          "height": 52
        },
        "outputId": "3a61fa48-75b4-42b4-ccf2-0761cfebaed0"
      },
      "source": [
        "a.add_(1)\n",
        "print(a)\n",
        "print(b)"
      ],
      "execution_count": 110,
      "outputs": [
        {
          "output_type": "stream",
          "text": [
            "tensor([2., 2., 2., 2., 2.])\n",
            "[2. 2. 2. 2. 2.]\n"
          ],
          "name": "stdout"
        }
      ]
    },
    {
      "cell_type": "markdown",
      "metadata": {
        "id": "moOeDjDX7Ul8",
        "colab_type": "text"
      },
      "source": [
        "Converting NumPy Array to Torch Tensor\n",
        "^^^^^^^^^^^^^^^^^^^^^^^^^^^^^^^^^^^^^^\n",
        "See how changing the np array changed the Torch Tensor automatically\n",
        "\n"
      ]
    },
    {
      "cell_type": "code",
      "metadata": {
        "id": "3drlU42Z7Ul8",
        "colab_type": "code",
        "colab": {
          "base_uri": "https://localhost:8080/",
          "height": 52
        },
        "outputId": "627fa5f2-772f-4b0f-a9c9-716aefb1dbb9"
      },
      "source": [
        "import numpy as np\n",
        "a = np.ones(5)\n",
        "b = torch.from_numpy(a)\n",
        "np.add(a, 1, out=a)\n",
        "print(a)\n",
        "print(b)"
      ],
      "execution_count": 111,
      "outputs": [
        {
          "output_type": "stream",
          "text": [
            "[2. 2. 2. 2. 2.]\n",
            "tensor([2., 2., 2., 2., 2.], dtype=torch.float64)\n"
          ],
          "name": "stdout"
        }
      ]
    },
    {
      "cell_type": "markdown",
      "metadata": {
        "id": "dV9pNX1k7Ul_",
        "colab_type": "text"
      },
      "source": [
        "All the Tensors on the CPU except a CharTensor support converting to\n",
        "NumPy and back.\n",
        "\n",
        "CUDA Tensors\n",
        "------------\n",
        "\n",
        "Tensors can be moved onto any device using the ``.to`` method.\n",
        "\n"
      ]
    },
    {
      "cell_type": "code",
      "metadata": {
        "id": "DHOkMru77UmA",
        "colab_type": "code",
        "colab": {
          "base_uri": "https://localhost:8080/",
          "height": 85
        },
        "outputId": "0dca707c-d6f1-429e-c65d-2296ee4d4578"
      },
      "source": [
        "# let us run this cell only if CUDA is available\n",
        "# We will use ``torch.device`` objects to move tensors in and out of GPU\n",
        "if torch.cuda.is_available():\n",
        "    device = torch.device(\"cuda\")          # a CUDA device object\n",
        "    y = torch.ones_like(x, device=device)  # directly create a tensor on GPU\n",
        "    x = x.to(device)                       # or just use strings ``.to(\"cuda\")``\n",
        "    z = x + y\n",
        "    print(z)\n",
        "    print(z.dtype, z.device)\n",
        "    print(z.to(\"cpu\", torch.double))       # ``.to`` can also change dtype together!\n",
        "    print(z.device)"
      ],
      "execution_count": null,
      "outputs": [
        {
          "output_type": "stream",
          "text": [
            "tensor([1.0980], device='cuda:0')\n",
            "torch.float32 cuda:0\n",
            "tensor([1.0980], dtype=torch.float64)\n",
            "cuda:0\n"
          ],
          "name": "stdout"
        }
      ]
    },
    {
      "cell_type": "code",
      "metadata": {
        "id": "dfgB6BUwP_q9",
        "colab_type": "code",
        "colab": {
          "base_uri": "https://localhost:8080/",
          "height": 34
        },
        "outputId": "e4263f66-0838-4fb2-f7d4-f6e3692348c0"
      },
      "source": [
        "print(z.to(\"cpu\").dtype)"
      ],
      "execution_count": null,
      "outputs": [
        {
          "output_type": "stream",
          "text": [
            "torch.float32\n"
          ],
          "name": "stdout"
        }
      ]
    },
    {
      "cell_type": "code",
      "metadata": {
        "id": "6SQTOf3yQb2G",
        "colab_type": "code",
        "colab": {
          "base_uri": "https://localhost:8080/",
          "height": 34
        },
        "outputId": "b9de0f8a-4cd5-4a57-e271-718e9829ae59"
      },
      "source": [
        "print(z.to(\"cpu\").device)"
      ],
      "execution_count": null,
      "outputs": [
        {
          "output_type": "stream",
          "text": [
            "cpu\n"
          ],
          "name": "stdout"
        }
      ]
    },
    {
      "cell_type": "code",
      "metadata": {
        "id": "hIZH60jnQjiZ",
        "colab_type": "code",
        "colab": {}
      },
      "source": [
        ""
      ],
      "execution_count": null,
      "outputs": []
    }
  ]
}